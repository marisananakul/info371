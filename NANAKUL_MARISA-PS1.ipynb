{
 "cells": [
  {
   "cell_type": "markdown",
   "metadata": {
    "ein.tags": [
     "worksheet-0"
    ],
    "slideshow": {
     "slide_type": "-"
    }
   },
   "source": [
    "# Problem Set 1, due April 12th at 3:30 pm \n",
    "(in other words, it is due at the start of the class).\n",
    "\n",
    "### Before You Start\n",
    "For this problem set, you should download INF0371-PS1.ipynb from Canvas. Create a local copy of the notebook and rename it LASTNAME_FIRSTNAME-PS1.ipynb. Then edit your renamed file directly in your browser by typing:\n",
    "```\n",
    "ipython notebook <name_of_downloaded_file>\n",
    "```\n",
    "\n",
    "Make sure the following libraries load correctly (hit Ctrl-Enter).\n"
   ]
  },
  {
   "cell_type": "code",
   "execution_count": 1,
   "metadata": {
    "autoscroll": "json-false",
    "collapsed": false,
    "ein.tags": [
     "worksheet-0"
    ],
    "slideshow": {
     "slide_type": "-"
    }
   },
   "outputs": [
    {
     "name": "stdout",
     "output_type": "stream",
     "text": [
      "IPython version:       5.1.0 (need at least 1.0)\n",
      "Numpy version:        1.12.0 (need at least 1.7.1)\n",
      "SciPy version:        0.18.1 (need at least 0.12.0)\n",
      "Pandas version:       0.19.2 (need at least 0.11.0)\n",
      "Maplotlib version:     1.5.3 (need at least 1.2.1)\n",
      "Scikit-Learn version: 0.17.1 (need at least 0.13.1)\n"
     ]
    }
   ],
   "source": [
    "#IPython is what you are using now to run the notebook\n",
    "import IPython\n",
    "print (\"IPython version:      %6.6s (need at least 1.0)\" % IPython.__version__)\n",
    "\n",
    "# Numpy is a library for working with Arrays\n",
    "import numpy as np\n",
    "print (\"Numpy version:        %6.6s (need at least 1.7.1)\" % np.__version__)\n",
    "\n",
    "# SciPy implements many different numerical algorithms\n",
    "import scipy as sp\n",
    "print (\"SciPy version:        %6.6s (need at least 0.12.0)\" % sp.__version__)\n",
    "\n",
    "# Pandas makes working with data tables easier\n",
    "import pandas as pd\n",
    "print (\"Pandas version:       %6.6s (need at least 0.11.0)\" % pd.__version__)\n",
    "\n",
    "# Module for plotting\n",
    "import matplotlib\n",
    "print (\"Maplotlib version:    %6.6s (need at least 1.2.1)\" % matplotlib.__version__)\n",
    "\n",
    "# SciKit Learn implements several Machine Learning algorithms\n",
    "import sklearn\n",
    "print (\"Scikit-Learn version: %6.6s (need at least 0.13.1)\" % sklearn.__version__)"
   ]
  },
  {
   "cell_type": "markdown",
   "metadata": {
    "ein.tags": [
     "worksheet-0"
    ],
    "slideshow": {
     "slide_type": "-"
    }
   },
   "source": [
    "### Working in a group?\n",
    "List the names of other students with whom you worked on this problem set:\n",
    "- Arvind K.\n",
    "- Kimiko F."
   ]
  },
  {
   "cell_type": "markdown",
   "metadata": {
    "ein.tags": [
     "worksheet-0"
    ],
    "slideshow": {
     "slide_type": "-"
    }
   },
   "source": [
    "---\n",
    "\n",
    "## Introduction to the assignment\n",
    "\n",
    "For this assignment, you will be using the [Boston Housing Prices Data Set](http://archive.ics.uci.edu/ml/datasets/Housing).  Please read about the dataset carefully before continuing -- it is worth investing a few minutes up front otherwise you are likely to be hopelessly confused! Also, if you're new to analyzing data in Python, please make sure to read the relevant readings linked to on Canvas before beginning, otherwise you'll be stabbing in the dark.\n",
    "\n",
    "Use the following commands to load the dataset:"
   ]
  },
  {
   "cell_type": "code",
   "execution_count": 2,
   "metadata": {
    "autoscroll": "json-false",
    "collapsed": false,
    "ein.tags": [
     "worksheet-0"
    ],
    "slideshow": {
     "slide_type": "-"
    }
   },
   "outputs": [],
   "source": [
    "from sklearn.datasets import load_boston\n",
    "bdata = load_boston()"
   ]
  },
  {
   "cell_type": "markdown",
   "metadata": {
    "ein.tags": [
     "worksheet-0"
    ],
    "slideshow": {
     "slide_type": "-"
    }
   },
   "source": [
    "The following commands will provide some basic information about the shape of the data:"
   ]
  },
  {
   "cell_type": "code",
   "execution_count": 3,
   "metadata": {
    "autoscroll": "json-false",
    "collapsed": false,
    "ein.tags": [
     "worksheet-0"
    ],
    "slideshow": {
     "slide_type": "-"
    }
   },
   "outputs": [
    {
     "name": "stdout",
     "output_type": "stream",
     "text": [
      "dict_keys(['feature_names', 'target', 'data', 'DESCR'])\n",
      "['CRIM' 'ZN' 'INDUS' 'CHAS' 'NOX' 'RM' 'AGE' 'DIS' 'RAD' 'TAX' 'PTRATIO'\n",
      " 'B' 'LSTAT']\n",
      "(506, 13)\n",
      "(506,)\n"
     ]
    }
   ],
   "source": [
    "print (bdata.keys())\n",
    "print (bdata.feature_names)\n",
    "print (bdata.data.shape)\n",
    "print (bdata.target.shape)\n",
    "\n",
    "# uncomment the following if you want to see a lengthy description of the dataset\n",
    "# print bdata.DESCR"
   ]
  },
  {
   "cell_type": "code",
   "execution_count": 4,
   "metadata": {
    "autoscroll": "json-false",
    "collapsed": false,
    "ein.tags": [
     "worksheet-0"
    ],
    "slideshow": {
     "slide_type": "-"
    }
   },
   "outputs": [
    {
     "name": "stdout",
     "output_type": "stream",
     "text": [
      "         CRIM    ZN  INDUS  CHAS    NOX     RM    AGE     DIS   RAD    TAX  \\\n",
      "0     0.00632  18.0   2.31   0.0  0.538  6.575   65.2  4.0900   1.0  296.0   \n",
      "1     0.02731   0.0   7.07   0.0  0.469  6.421   78.9  4.9671   2.0  242.0   \n",
      "2     0.02729   0.0   7.07   0.0  0.469  7.185   61.1  4.9671   2.0  242.0   \n",
      "3     0.03237   0.0   2.18   0.0  0.458  6.998   45.8  6.0622   3.0  222.0   \n",
      "4     0.06905   0.0   2.18   0.0  0.458  7.147   54.2  6.0622   3.0  222.0   \n",
      "5     0.02985   0.0   2.18   0.0  0.458  6.430   58.7  6.0622   3.0  222.0   \n",
      "6     0.08829  12.5   7.87   0.0  0.524  6.012   66.6  5.5605   5.0  311.0   \n",
      "7     0.14455  12.5   7.87   0.0  0.524  6.172   96.1  5.9505   5.0  311.0   \n",
      "8     0.21124  12.5   7.87   0.0  0.524  5.631  100.0  6.0821   5.0  311.0   \n",
      "9     0.17004  12.5   7.87   0.0  0.524  6.004   85.9  6.5921   5.0  311.0   \n",
      "10    0.22489  12.5   7.87   0.0  0.524  6.377   94.3  6.3467   5.0  311.0   \n",
      "11    0.11747  12.5   7.87   0.0  0.524  6.009   82.9  6.2267   5.0  311.0   \n",
      "12    0.09378  12.5   7.87   0.0  0.524  5.889   39.0  5.4509   5.0  311.0   \n",
      "13    0.62976   0.0   8.14   0.0  0.538  5.949   61.8  4.7075   4.0  307.0   \n",
      "14    0.63796   0.0   8.14   0.0  0.538  6.096   84.5  4.4619   4.0  307.0   \n",
      "15    0.62739   0.0   8.14   0.0  0.538  5.834   56.5  4.4986   4.0  307.0   \n",
      "16    1.05393   0.0   8.14   0.0  0.538  5.935   29.3  4.4986   4.0  307.0   \n",
      "17    0.78420   0.0   8.14   0.0  0.538  5.990   81.7  4.2579   4.0  307.0   \n",
      "18    0.80271   0.0   8.14   0.0  0.538  5.456   36.6  3.7965   4.0  307.0   \n",
      "19    0.72580   0.0   8.14   0.0  0.538  5.727   69.5  3.7965   4.0  307.0   \n",
      "20    1.25179   0.0   8.14   0.0  0.538  5.570   98.1  3.7979   4.0  307.0   \n",
      "21    0.85204   0.0   8.14   0.0  0.538  5.965   89.2  4.0123   4.0  307.0   \n",
      "22    1.23247   0.0   8.14   0.0  0.538  6.142   91.7  3.9769   4.0  307.0   \n",
      "23    0.98843   0.0   8.14   0.0  0.538  5.813  100.0  4.0952   4.0  307.0   \n",
      "24    0.75026   0.0   8.14   0.0  0.538  5.924   94.1  4.3996   4.0  307.0   \n",
      "25    0.84054   0.0   8.14   0.0  0.538  5.599   85.7  4.4546   4.0  307.0   \n",
      "26    0.67191   0.0   8.14   0.0  0.538  5.813   90.3  4.6820   4.0  307.0   \n",
      "27    0.95577   0.0   8.14   0.0  0.538  6.047   88.8  4.4534   4.0  307.0   \n",
      "28    0.77299   0.0   8.14   0.0  0.538  6.495   94.4  4.4547   4.0  307.0   \n",
      "29    1.00245   0.0   8.14   0.0  0.538  6.674   87.3  4.2390   4.0  307.0   \n",
      "..        ...   ...    ...   ...    ...    ...    ...     ...   ...    ...   \n",
      "476   4.87141   0.0  18.10   0.0  0.614  6.484   93.6  2.3053  24.0  666.0   \n",
      "477  15.02340   0.0  18.10   0.0  0.614  5.304   97.3  2.1007  24.0  666.0   \n",
      "478  10.23300   0.0  18.10   0.0  0.614  6.185   96.7  2.1705  24.0  666.0   \n",
      "479  14.33370   0.0  18.10   0.0  0.614  6.229   88.0  1.9512  24.0  666.0   \n",
      "480   5.82401   0.0  18.10   0.0  0.532  6.242   64.7  3.4242  24.0  666.0   \n",
      "481   5.70818   0.0  18.10   0.0  0.532  6.750   74.9  3.3317  24.0  666.0   \n",
      "482   5.73116   0.0  18.10   0.0  0.532  7.061   77.0  3.4106  24.0  666.0   \n",
      "483   2.81838   0.0  18.10   0.0  0.532  5.762   40.3  4.0983  24.0  666.0   \n",
      "484   2.37857   0.0  18.10   0.0  0.583  5.871   41.9  3.7240  24.0  666.0   \n",
      "485   3.67367   0.0  18.10   0.0  0.583  6.312   51.9  3.9917  24.0  666.0   \n",
      "486   5.69175   0.0  18.10   0.0  0.583  6.114   79.8  3.5459  24.0  666.0   \n",
      "487   4.83567   0.0  18.10   0.0  0.583  5.905   53.2  3.1523  24.0  666.0   \n",
      "488   0.15086   0.0  27.74   0.0  0.609  5.454   92.7  1.8209   4.0  711.0   \n",
      "489   0.18337   0.0  27.74   0.0  0.609  5.414   98.3  1.7554   4.0  711.0   \n",
      "490   0.20746   0.0  27.74   0.0  0.609  5.093   98.0  1.8226   4.0  711.0   \n",
      "491   0.10574   0.0  27.74   0.0  0.609  5.983   98.8  1.8681   4.0  711.0   \n",
      "492   0.11132   0.0  27.74   0.0  0.609  5.983   83.5  2.1099   4.0  711.0   \n",
      "493   0.17331   0.0   9.69   0.0  0.585  5.707   54.0  2.3817   6.0  391.0   \n",
      "494   0.27957   0.0   9.69   0.0  0.585  5.926   42.6  2.3817   6.0  391.0   \n",
      "495   0.17899   0.0   9.69   0.0  0.585  5.670   28.8  2.7986   6.0  391.0   \n",
      "496   0.28960   0.0   9.69   0.0  0.585  5.390   72.9  2.7986   6.0  391.0   \n",
      "497   0.26838   0.0   9.69   0.0  0.585  5.794   70.6  2.8927   6.0  391.0   \n",
      "498   0.23912   0.0   9.69   0.0  0.585  6.019   65.3  2.4091   6.0  391.0   \n",
      "499   0.17783   0.0   9.69   0.0  0.585  5.569   73.5  2.3999   6.0  391.0   \n",
      "500   0.22438   0.0   9.69   0.0  0.585  6.027   79.7  2.4982   6.0  391.0   \n",
      "501   0.06263   0.0  11.93   0.0  0.573  6.593   69.1  2.4786   1.0  273.0   \n",
      "502   0.04527   0.0  11.93   0.0  0.573  6.120   76.7  2.2875   1.0  273.0   \n",
      "503   0.06076   0.0  11.93   0.0  0.573  6.976   91.0  2.1675   1.0  273.0   \n",
      "504   0.10959   0.0  11.93   0.0  0.573  6.794   89.3  2.3889   1.0  273.0   \n",
      "505   0.04741   0.0  11.93   0.0  0.573  6.030   80.8  2.5050   1.0  273.0   \n",
      "\n",
      "     PTRATIO       B  LSTAT  MEDV  \n",
      "0       15.3  396.90   4.98  24.0  \n",
      "1       17.8  396.90   9.14  21.6  \n",
      "2       17.8  392.83   4.03  34.7  \n",
      "3       18.7  394.63   2.94  33.4  \n",
      "4       18.7  396.90   5.33  36.2  \n",
      "5       18.7  394.12   5.21  28.7  \n",
      "6       15.2  395.60  12.43  22.9  \n",
      "7       15.2  396.90  19.15  27.1  \n",
      "8       15.2  386.63  29.93  16.5  \n",
      "9       15.2  386.71  17.10  18.9  \n",
      "10      15.2  392.52  20.45  15.0  \n",
      "11      15.2  396.90  13.27  18.9  \n",
      "12      15.2  390.50  15.71  21.7  \n",
      "13      21.0  396.90   8.26  20.4  \n",
      "14      21.0  380.02  10.26  18.2  \n",
      "15      21.0  395.62   8.47  19.9  \n",
      "16      21.0  386.85   6.58  23.1  \n",
      "17      21.0  386.75  14.67  17.5  \n",
      "18      21.0  288.99  11.69  20.2  \n",
      "19      21.0  390.95  11.28  18.2  \n",
      "20      21.0  376.57  21.02  13.6  \n",
      "21      21.0  392.53  13.83  19.6  \n",
      "22      21.0  396.90  18.72  15.2  \n",
      "23      21.0  394.54  19.88  14.5  \n",
      "24      21.0  394.33  16.30  15.6  \n",
      "25      21.0  303.42  16.51  13.9  \n",
      "26      21.0  376.88  14.81  16.6  \n",
      "27      21.0  306.38  17.28  14.8  \n",
      "28      21.0  387.94  12.80  18.4  \n",
      "29      21.0  380.23  11.98  21.0  \n",
      "..       ...     ...    ...   ...  \n",
      "476     20.2  396.21  18.68  16.7  \n",
      "477     20.2  349.48  24.91  12.0  \n",
      "478     20.2  379.70  18.03  14.6  \n",
      "479     20.2  383.32  13.11  21.4  \n",
      "480     20.2  396.90  10.74  23.0  \n",
      "481     20.2  393.07   7.74  23.7  \n",
      "482     20.2  395.28   7.01  25.0  \n",
      "483     20.2  392.92  10.42  21.8  \n",
      "484     20.2  370.73  13.34  20.6  \n",
      "485     20.2  388.62  10.58  21.2  \n",
      "486     20.2  392.68  14.98  19.1  \n",
      "487     20.2  388.22  11.45  20.6  \n",
      "488     20.1  395.09  18.06  15.2  \n",
      "489     20.1  344.05  23.97   7.0  \n",
      "490     20.1  318.43  29.68   8.1  \n",
      "491     20.1  390.11  18.07  13.6  \n",
      "492     20.1  396.90  13.35  20.1  \n",
      "493     19.2  396.90  12.01  21.8  \n",
      "494     19.2  396.90  13.59  24.5  \n",
      "495     19.2  393.29  17.60  23.1  \n",
      "496     19.2  396.90  21.14  19.7  \n",
      "497     19.2  396.90  14.10  18.3  \n",
      "498     19.2  396.90  12.92  21.2  \n",
      "499     19.2  395.77  15.10  17.5  \n",
      "500     19.2  396.90  14.33  16.8  \n",
      "501     21.0  391.99   9.67  22.4  \n",
      "502     21.0  396.90   9.08  20.6  \n",
      "503     21.0  396.90   5.64  23.9  \n",
      "504     21.0  393.45   6.48  22.0  \n",
      "505     21.0  396.90   7.88  11.9  \n",
      "\n",
      "[506 rows x 14 columns]\n"
     ]
    }
   ],
   "source": [
    "boston = pd.DataFrame(bdata.data, columns = ['CRIM', 'ZN', 'INDUS', 'CHAS', 'NOX', 'RM', 'AGE', 'DIS', 'RAD', 'TAX', 'PTRATIO', 'B', 'LSTAT'])\n",
    "boston[\"MEDV\"] = bdata.target\n",
    "print (boston)"
   ]
  },
  {
   "cell_type": "code",
   "execution_count": 8,
   "metadata": {
    "autoscroll": "json-false",
    "collapsed": false,
    "ein.tags": [
     "worksheet-0"
    ],
    "slideshow": {
     "slide_type": "-"
    }
   },
   "outputs": [],
   "source": [
    "#boston.columns = bdata.feature_names[:]\n",
    "#print (boston.shape)"
   ]
  },
  {
   "cell_type": "markdown",
   "metadata": {
    "ein.tags": [
     "worksheet-0"
    ],
    "slideshow": {
     "slide_type": "-"
    }
   },
   "source": [
    "---\n",
    "\n",
    "## Part 1: Descriptive analysis\n",
    "\n",
    "### 1.1: Explore the data\n",
    "\n",
    "Let's dig into the data a bit to see what we're dealing with. The first thing to do is to make sure you understand how the data is organized, what the data types are, whether there is any missing data, and so forth. Get your bearings on your own, then answer the following questions.\n",
    "\n",
    " - 1.1.1: How many different variables are there in the dataset, and how many different observations?\n",
    " - 1.1.2: How many instances are classified as neighborhoods where the tract bounds the Charles River? \n",
    " - 1.1.3: Show that dataset does not contain any missing values.\n",
    " - 1.1.4: Display the property tax rate in the 5 neighborhoods that have the highest median housing price."
   ]
  },
  {
   "cell_type": "code",
   "execution_count": 5,
   "metadata": {
    "autoscroll": "json-false",
    "collapsed": false,
    "ein.tags": [
     "worksheet-0"
    ],
    "slideshow": {
     "slide_type": "-"
    }
   },
   "outputs": [
    {
     "name": "stdout",
     "output_type": "stream",
     "text": [
      "1.1.1\n",
      "['CRIM', 'ZN', 'INDUS', 'CHAS', 'NOX', 'RM', 'AGE', 'DIS', 'RAD', 'TAX', 'PTRATIO', 'B', 'LSTAT', 'MEDV']\n",
      "\n",
      "(506, 14)\n",
      "\n",
      "1.1.2\n",
      "        CRIM    ZN  INDUS  CHAS     NOX     RM    AGE     DIS   RAD    TAX  \\\n",
      "142  3.32105   0.0  19.58   1.0  0.8710  5.403  100.0  1.3216   5.0  403.0   \n",
      "152  1.12658   0.0  19.58   1.0  0.8710  5.012   88.0  1.6102   5.0  403.0   \n",
      "154  1.41385   0.0  19.58   1.0  0.8710  6.129   96.0  1.7494   5.0  403.0   \n",
      "155  3.53501   0.0  19.58   1.0  0.8710  6.152   82.6  1.7455   5.0  403.0   \n",
      "160  1.27346   0.0  19.58   1.0  0.6050  6.250   92.6  1.7984   5.0  403.0   \n",
      "162  1.83377   0.0  19.58   1.0  0.6050  7.802   98.2  2.0407   5.0  403.0   \n",
      "163  1.51902   0.0  19.58   1.0  0.6050  8.375   93.9  2.1620   5.0  403.0   \n",
      "208  0.13587   0.0  10.59   1.0  0.4890  6.064   59.1  4.2392   4.0  277.0   \n",
      "209  0.43571   0.0  10.59   1.0  0.4890  5.344  100.0  3.8750   4.0  277.0   \n",
      "210  0.17446   0.0  10.59   1.0  0.4890  5.960   92.1  3.8771   4.0  277.0   \n",
      "211  0.37578   0.0  10.59   1.0  0.4890  5.404   88.6  3.6650   4.0  277.0   \n",
      "212  0.21719   0.0  10.59   1.0  0.4890  5.807   53.8  3.6526   4.0  277.0   \n",
      "216  0.04560   0.0  13.89   1.0  0.5500  5.888   56.0  3.1121   5.0  276.0   \n",
      "218  0.11069   0.0  13.89   1.0  0.5500  5.951   93.8  2.8893   5.0  276.0   \n",
      "219  0.11425   0.0  13.89   1.0  0.5500  6.373   92.4  3.3633   5.0  276.0   \n",
      "220  0.35809   0.0   6.20   1.0  0.5070  6.951   88.5  2.8617   8.0  307.0   \n",
      "221  0.40771   0.0   6.20   1.0  0.5070  6.164   91.3  3.0480   8.0  307.0   \n",
      "222  0.62356   0.0   6.20   1.0  0.5070  6.879   77.7  3.2721   8.0  307.0   \n",
      "234  0.44791   0.0   6.20   1.0  0.5070  6.726   66.5  3.6519   8.0  307.0   \n",
      "236  0.52058   0.0   6.20   1.0  0.5070  6.631   76.5  4.1480   8.0  307.0   \n",
      "269  0.09065  20.0   6.96   1.0  0.4640  5.920   61.5  3.9175   3.0  223.0   \n",
      "273  0.22188  20.0   6.96   1.0  0.4640  7.691   51.8  4.3665   3.0  223.0   \n",
      "274  0.05644  40.0   6.41   1.0  0.4470  6.758   32.9  4.0776   4.0  254.0   \n",
      "276  0.10469  40.0   6.41   1.0  0.4470  7.267   49.0  4.7872   4.0  254.0   \n",
      "277  0.06127  40.0   6.41   1.0  0.4470  6.826   27.6  4.8628   4.0  254.0   \n",
      "282  0.06129  20.0   3.33   1.0  0.4429  7.645   49.7  5.2119   5.0  216.0   \n",
      "283  0.01501  90.0   1.21   1.0  0.4010  7.923   24.8  5.8850   1.0  198.0   \n",
      "356  8.98296   0.0  18.10   1.0  0.7700  6.212   97.4  2.1222  24.0  666.0   \n",
      "357  3.84970   0.0  18.10   1.0  0.7700  6.395   91.0  2.5052  24.0  666.0   \n",
      "358  5.20177   0.0  18.10   1.0  0.7700  6.127   83.4  2.7227  24.0  666.0   \n",
      "363  4.22239   0.0  18.10   1.0  0.7700  5.803   89.0  1.9047  24.0  666.0   \n",
      "364  3.47428   0.0  18.10   1.0  0.7180  8.780   82.9  1.9047  24.0  666.0   \n",
      "369  5.66998   0.0  18.10   1.0  0.6310  6.683   96.8  1.3567  24.0  666.0   \n",
      "370  6.53876   0.0  18.10   1.0  0.6310  7.016   97.5  1.2024  24.0  666.0   \n",
      "372  8.26725   0.0  18.10   1.0  0.6680  5.875   89.6  1.1296  24.0  666.0   \n",
      "\n",
      "     PTRATIO       B  LSTAT  MEDV  \n",
      "142     14.7  396.90  26.82  13.4  \n",
      "152     14.7  343.28  12.12  15.3  \n",
      "154     14.7  321.02  15.12  17.0  \n",
      "155     14.7   88.01  15.02  15.6  \n",
      "160     14.7  338.92   5.50  27.0  \n",
      "162     14.7  389.61   1.92  50.0  \n",
      "163     14.7  388.45   3.32  50.0  \n",
      "208     18.6  381.32  14.66  24.4  \n",
      "209     18.6  396.90  23.09  20.0  \n",
      "210     18.6  393.25  17.27  21.7  \n",
      "211     18.6  395.24  23.98  19.3  \n",
      "212     18.6  390.94  16.03  22.4  \n",
      "216     16.4  392.80  13.51  23.3  \n",
      "218     16.4  396.90  17.92  21.5  \n",
      "219     16.4  393.74  10.50  23.0  \n",
      "220     17.4  391.70   9.71  26.7  \n",
      "221     17.4  395.24  21.46  21.7  \n",
      "222     17.4  390.39   9.93  27.5  \n",
      "234     17.4  360.20   8.05  29.0  \n",
      "236     17.4  388.45   9.54  25.1  \n",
      "269     18.6  391.34  13.65  20.7  \n",
      "273     18.6  390.77   6.58  35.2  \n",
      "274     17.6  396.90   3.53  32.4  \n",
      "276     17.6  389.25   6.05  33.2  \n",
      "277     17.6  393.45   4.16  33.1  \n",
      "282     14.9  377.07   3.01  46.0  \n",
      "283     13.6  395.52   3.16  50.0  \n",
      "356     20.2  377.73  17.60  17.8  \n",
      "357     20.2  391.34  13.27  21.7  \n",
      "358     20.2  395.43  11.48  22.7  \n",
      "363     20.2  353.04  14.64  16.8  \n",
      "364     20.2  354.55   5.29  21.9  \n",
      "369     20.2  375.33   3.73  50.0  \n",
      "370     20.2  392.05   2.96  50.0  \n",
      "372     20.2  347.88   8.88  50.0  \n",
      "(35, 14)\n",
      "\n",
      "1.1.3\n",
      "<class 'pandas.core.frame.DataFrame'>\n",
      "RangeIndex: 506 entries, 0 to 505\n",
      "Data columns (total 14 columns):\n",
      "CRIM       506 non-null float64\n",
      "ZN         506 non-null float64\n",
      "INDUS      506 non-null float64\n",
      "CHAS       506 non-null float64\n",
      "NOX        506 non-null float64\n",
      "RM         506 non-null float64\n",
      "AGE        506 non-null float64\n",
      "DIS        506 non-null float64\n",
      "RAD        506 non-null float64\n",
      "TAX        506 non-null float64\n",
      "PTRATIO    506 non-null float64\n",
      "B          506 non-null float64\n",
      "LSTAT      506 non-null float64\n",
      "MEDV       506 non-null float64\n",
      "dtypes: float64(14)\n",
      "memory usage: 55.4 KB\n",
      "None\n",
      "CRIM       506\n",
      "ZN         506\n",
      "INDUS      506\n",
      "CHAS       506\n",
      "NOX        506\n",
      "RM         506\n",
      "AGE        506\n",
      "DIS        506\n",
      "RAD        506\n",
      "TAX        506\n",
      "PTRATIO    506\n",
      "B          506\n",
      "LSTAT      506\n",
      "MEDV       506\n",
      "dtype: int64\n",
      "\n",
      "1.1.4\n",
      "        CRIM    ZN  INDUS  CHAS    NOX     RM    AGE     DIS   RAD    TAX  \\\n",
      "283  0.01501  90.0   1.21   1.0  0.401  7.923   24.8  5.8850   1.0  198.0   \n",
      "225  0.52693   0.0   6.20   0.0  0.504  8.725   83.0  2.8944   8.0  307.0   \n",
      "369  5.66998   0.0  18.10   1.0  0.631  6.683   96.8  1.3567  24.0  666.0   \n",
      "370  6.53876   0.0  18.10   1.0  0.631  7.016   97.5  1.2024  24.0  666.0   \n",
      "371  9.23230   0.0  18.10   0.0  0.631  6.216  100.0  1.1691  24.0  666.0   \n",
      "\n",
      "     PTRATIO       B  LSTAT  MEDV  \n",
      "283     13.6  395.52   3.16  50.0  \n",
      "225     17.4  382.00   4.63  50.0  \n",
      "369     20.2  375.33   3.73  50.0  \n",
      "370     20.2  392.05   2.96  50.0  \n",
      "371     20.2  366.15   9.53  50.0  \n"
     ]
    },
    {
     "name": "stderr",
     "output_type": "stream",
     "text": [
      "/Users/marisananakul/anaconda/lib/python3.5/site-packages/ipykernel/__main__.py:26: FutureWarning: sort(columns=....) is deprecated, use sort_values(by=.....)\n"
     ]
    }
   ],
   "source": [
    "# 1.1.1\n",
    "# Number of different variables\n",
    "print (\"1.1.1\")\n",
    "print (list(boston.columns.values))\n",
    "print()\n",
    "\n",
    "# Number of different observations\n",
    "print (boston.shape)\n",
    "print ()\n",
    "\n",
    "# 1.1.2\n",
    "print (\"1.1.2\")\n",
    "boston_CHAS_1_df = boston.drop(boston[boston.CHAS < 1].index)\n",
    "print (boston_CHAS_1_df)\n",
    "print (boston_CHAS_1_df.shape)\n",
    "print()\n",
    "\n",
    "# 1.1.3\n",
    "print (\"1.1.3\")\n",
    "print (boston.info())\n",
    "print (boston.count())\n",
    "print ()\n",
    "\n",
    "# 1.1.4\n",
    "print (\"1.1.4\")\n",
    "df_high_median_price_desc = boston.sort('MEDV', ascending=False)\n",
    "print (df_high_median_price_desc.head(n=5))"
   ]
  },
  {
   "cell_type": "markdown",
   "metadata": {
    "ein.tags": [
     "worksheet-0"
    ],
    "slideshow": {
     "slide_type": "-"
    }
   },
   "source": [
    "*Provide our answers below:*\n",
    "\n",
    " - 1.1.1: There are 14 variables in the dataset and 506 different observations. There are 13 variables in the dataset but because \"MEDV\" was the target variable, it was not initially included in the original dataset.\n",
    " - 1.1.2: There are 35 neighborhood instances where the tract bounds the Charles River.\n",
    " - 1.1.3: The boston.info() method shows that each column has 506 instances. The boston.count() method returns the number of observations in each column, and each column has 506 instances, meaning that there are no missing values.\n",
    " - 1.1.4: The property tax rates (in $1000's) in the 5 neighborhoods with the highest median housing price are as follows: 198.0, 307.0, 666.0, 666.0, 666.0."
   ]
  },
  {
   "cell_type": "markdown",
   "metadata": {
    "ein.tags": [
     "worksheet-0"
    ],
    "slideshow": {
     "slide_type": "-"
    }
   },
   "source": [
    "### 1.2: Answer some basic questions\n",
    " - 1.2.1: What is the median housing price in Boston's most expensive neighborhood?\n",
    " - 1.2.2: How many neighborhoods have, on average, less than 5 rooms per dwelling?\n",
    " - 1.2.3: What is the property tax rate in the most expensive neighborhood that is also adjacent to the Charles River?\n",
    " - 1.2.4: What is the crime rate in the neighborhood with the highest median housing price? \n",
    " - 1.2.5: What is the crime rate in the neighborhood with the lowest median housing price?"
   ]
  },
  {
   "cell_type": "code",
   "execution_count": 6,
   "metadata": {
    "autoscroll": "json-false",
    "collapsed": false,
    "ein.tags": [
     "worksheet-0"
    ],
    "slideshow": {
     "slide_type": "-"
    }
   },
   "outputs": [
    {
     "name": "stdout",
     "output_type": "stream",
     "text": [
      "1.2.1\n",
      "        CRIM    ZN  INDUS  CHAS    NOX     RM   AGE    DIS  RAD    TAX  \\\n",
      "283  0.01501  90.0   1.21   1.0  0.401  7.923  24.8  5.885  1.0  198.0   \n",
      "\n",
      "     PTRATIO       B  LSTAT  MEDV  \n",
      "283     13.6  395.52   3.16  50.0  \n",
      "\n",
      "1.2.2\n",
      "         CRIM   ZN  INDUS  CHAS    NOX     RM    AGE     DIS   RAD    TAX  \\\n",
      "144   2.77974  0.0  19.58   0.0  0.871  4.903   97.8  1.3459   5.0  403.0   \n",
      "147   2.36862  0.0  19.58   0.0  0.871  4.926   95.7  1.4608   5.0  403.0   \n",
      "310   2.63548  0.0   9.90   0.0  0.544  4.973   37.8  2.5194   4.0  304.0   \n",
      "365   4.55587  0.0  18.10   0.0  0.718  3.561   87.9  1.6132  24.0  666.0   \n",
      "366   3.69695  0.0  18.10   0.0  0.718  4.963   91.4  1.7523  24.0  666.0   \n",
      "367  13.52220  0.0  18.10   0.0  0.631  3.863  100.0  1.5106  24.0  666.0   \n",
      "368   4.89822  0.0  18.10   0.0  0.631  4.970  100.0  1.3325  24.0  666.0   \n",
      "373  11.10810  0.0  18.10   0.0  0.668  4.906  100.0  1.1742  24.0  666.0   \n",
      "374  18.49820  0.0  18.10   0.0  0.668  4.138  100.0  1.1370  24.0  666.0   \n",
      "384  20.08490  0.0  18.10   0.0  0.700  4.368   91.2  1.4395  24.0  666.0   \n",
      "386  24.39380  0.0  18.10   0.0  0.700  4.652  100.0  1.4672  24.0  666.0   \n",
      "388  14.33370  0.0  18.10   0.0  0.700  4.880  100.0  1.5895  24.0  666.0   \n",
      "406  20.71620  0.0  18.10   0.0  0.659  4.138  100.0  1.1781  24.0  666.0   \n",
      "412  18.81100  0.0  18.10   0.0  0.597  4.628  100.0  1.5539  24.0  666.0   \n",
      "414  45.74610  0.0  18.10   0.0  0.693  4.519  100.0  1.6582  24.0  666.0   \n",
      "\n",
      "     PTRATIO       B  LSTAT  MEDV  \n",
      "144     14.7  396.90  29.29  11.8  \n",
      "147     14.7  391.71  29.53  14.6  \n",
      "310     18.4  350.45  12.64  16.1  \n",
      "365     20.2  354.70   7.12  27.5  \n",
      "366     20.2  316.03  14.00  21.9  \n",
      "367     20.2  131.42  13.33  23.1  \n",
      "368     20.2  375.52   3.26  50.0  \n",
      "373     20.2  396.90  34.77  13.8  \n",
      "374     20.2  396.90  37.97  13.8  \n",
      "384     20.2  285.83  30.63   8.8  \n",
      "386     20.2  396.90  28.28  10.5  \n",
      "388     20.2  372.92  30.62  10.2  \n",
      "406     20.2  370.22  23.34  11.9  \n",
      "412     20.2   28.79  34.37  17.9  \n",
      "414     20.2   88.27  36.98   7.0  \n",
      "(15, 14)\n",
      "\n",
      "1.2.3\n",
      "        CRIM   ZN  INDUS  CHAS    NOX     RM   AGE     DIS   RAD    TAX  \\\n",
      "372  8.26725  0.0   18.1   1.0  0.668  5.875  89.6  1.1296  24.0  666.0   \n",
      "\n",
      "     PTRATIO       B  LSTAT  MEDV  \n",
      "372     20.2  347.88   8.88  50.0  \n",
      "\n",
      "1.2.4\n",
      "        CRIM    ZN  INDUS  CHAS    NOX     RM   AGE    DIS  RAD    TAX  \\\n",
      "283  0.01501  90.0   1.21   1.0  0.401  7.923  24.8  5.885  1.0  198.0   \n",
      "\n",
      "     PTRATIO       B  LSTAT  MEDV  \n",
      "283     13.6  395.52   3.16  50.0  \n",
      "\n",
      "1.2.5\n",
      "        CRIM   ZN  INDUS  CHAS    NOX     RM    AGE     DIS   RAD    TAX  \\\n",
      "398  38.3518  0.0   18.1   0.0  0.693  5.453  100.0  1.4896  24.0  666.0   \n",
      "\n",
      "     PTRATIO      B  LSTAT  MEDV  \n",
      "398     20.2  396.9  30.59   5.0  \n"
     ]
    },
    {
     "name": "stderr",
     "output_type": "stream",
     "text": [
      "/Users/marisananakul/anaconda/lib/python3.5/site-packages/ipykernel/__main__.py:15: FutureWarning: sort(columns=....) is deprecated, use sort_values(by=.....)\n",
      "/Users/marisananakul/anaconda/lib/python3.5/site-packages/ipykernel/__main__.py:26: FutureWarning: sort(columns=....) is deprecated, use sort_values(by=.....)\n"
     ]
    }
   ],
   "source": [
    "# 1.2.1\n",
    "print (\"1.2.1\")\n",
    "print (df_high_median_price_desc.head(n=1))\n",
    "print ()\n",
    "\n",
    "# 1.2.2\n",
    "print (\"1.2.2\")\n",
    "boston_RM_5_df = boston.loc[boston['RM'] < 5]\n",
    "print (boston_RM_5_df)\n",
    "print (boston_RM_5_df.shape)\n",
    "print()\n",
    "\n",
    "# 1.2.3\n",
    "print (\"1.2.3\")\n",
    "boston_MEDV_CHAS_df = boston_CHAS_1_df.sort(['MEDV'], ascending=False)\n",
    "print (boston_MEDV_CHAS_df.head(n=1))\n",
    "print ()\n",
    "\n",
    "# 1.2.4\n",
    "print (\"1.2.4\")\n",
    "print (df_high_median_price_desc.head(n=1))\n",
    "print ()\n",
    "\n",
    "# 1.2.5\n",
    "print (\"1.2.5\")\n",
    "boston_MEDV_asc = boston.sort('MEDV', ascending=True)\n",
    "print (boston_MEDV_asc.head(n=1))\n"
   ]
  },
  {
   "cell_type": "markdown",
   "metadata": {
    "ein.tags": [
     "worksheet-0"
    ],
    "slideshow": {
     "slide_type": "-"
    }
   },
   "source": [
    "*Provide our answers below:*\n",
    "\n",
    " - 1.2.1: The median housing price in Boston's most expensive neighborhood is $50,000.\n",
    " - 1.2.2: There are 15 neighborhoods that have, on average, less than 5 rooms per dwelling.\n",
    " - 1.2.3: The property tax rate is 666.0.\n",
    " - 1.2.4: The crime rate in the neighborhood with the highest median housing price is 0.01501.\n",
    " - 1.2.5: The crime rate in the neighborhood with the lowest median housing price is 38.3518."
   ]
  },
  {
   "cell_type": "markdown",
   "metadata": {
    "ein.tags": [
     "worksheet-0"
    ],
    "slideshow": {
     "slide_type": "-"
    }
   },
   "source": [
    "### 1.3: Summary statistics\n",
    "\n",
    "Create a clean, organized table that shows just the following information (no more, no less) for each variable in the dataset. Note that your table should have K rows (one for each variable) and 7 columns, ordered as below:\n",
    " - The name of the variable\n",
    " - The number of observations with non-missing values\n",
    " - The mean of the variable\n",
    " - The standard deviation of the variable\n",
    " - The minimum value of the variable\n",
    " - The median of the variable\n",
    " - The maximum value of the variable"
   ]
  },
  {
   "cell_type": "code",
   "execution_count": 7,
   "metadata": {
    "autoscroll": "json-false",
    "collapsed": false,
    "ein.tags": [
     "worksheet-0"
    ],
    "slideshow": {
     "slide_type": "-"
    }
   },
   "outputs": [
    {
     "data": {
      "text/html": [
       "<div>\n",
       "<table border=\"1\" class=\"dataframe\">\n",
       "  <thead>\n",
       "    <tr style=\"text-align: right;\">\n",
       "      <th></th>\n",
       "      <th>count</th>\n",
       "      <th>mean</th>\n",
       "      <th>std</th>\n",
       "      <th>min</th>\n",
       "      <th>med</th>\n",
       "      <th>max</th>\n",
       "      <th>name</th>\n",
       "    </tr>\n",
       "  </thead>\n",
       "  <tbody>\n",
       "    <tr>\n",
       "      <th>CRIM</th>\n",
       "      <td>506.0</td>\n",
       "      <td>3.593761</td>\n",
       "      <td>8.596783</td>\n",
       "      <td>0.00632</td>\n",
       "      <td>0.25651</td>\n",
       "      <td>88.9762</td>\n",
       "      <td>CRIM</td>\n",
       "    </tr>\n",
       "    <tr>\n",
       "      <th>ZN</th>\n",
       "      <td>506.0</td>\n",
       "      <td>11.363636</td>\n",
       "      <td>23.322453</td>\n",
       "      <td>0.00000</td>\n",
       "      <td>0.00000</td>\n",
       "      <td>100.0000</td>\n",
       "      <td>ZN</td>\n",
       "    </tr>\n",
       "    <tr>\n",
       "      <th>INDUS</th>\n",
       "      <td>506.0</td>\n",
       "      <td>11.136779</td>\n",
       "      <td>6.860353</td>\n",
       "      <td>0.46000</td>\n",
       "      <td>9.69000</td>\n",
       "      <td>27.7400</td>\n",
       "      <td>INDUS</td>\n",
       "    </tr>\n",
       "    <tr>\n",
       "      <th>CHAS</th>\n",
       "      <td>506.0</td>\n",
       "      <td>0.069170</td>\n",
       "      <td>0.253994</td>\n",
       "      <td>0.00000</td>\n",
       "      <td>0.00000</td>\n",
       "      <td>1.0000</td>\n",
       "      <td>CHAS</td>\n",
       "    </tr>\n",
       "    <tr>\n",
       "      <th>NOX</th>\n",
       "      <td>506.0</td>\n",
       "      <td>0.554695</td>\n",
       "      <td>0.115878</td>\n",
       "      <td>0.38500</td>\n",
       "      <td>0.53800</td>\n",
       "      <td>0.8710</td>\n",
       "      <td>NOX</td>\n",
       "    </tr>\n",
       "    <tr>\n",
       "      <th>RM</th>\n",
       "      <td>506.0</td>\n",
       "      <td>6.284634</td>\n",
       "      <td>0.702617</td>\n",
       "      <td>3.56100</td>\n",
       "      <td>6.20850</td>\n",
       "      <td>8.7800</td>\n",
       "      <td>RM</td>\n",
       "    </tr>\n",
       "    <tr>\n",
       "      <th>AGE</th>\n",
       "      <td>506.0</td>\n",
       "      <td>68.574901</td>\n",
       "      <td>28.148861</td>\n",
       "      <td>2.90000</td>\n",
       "      <td>77.50000</td>\n",
       "      <td>100.0000</td>\n",
       "      <td>AGE</td>\n",
       "    </tr>\n",
       "    <tr>\n",
       "      <th>DIS</th>\n",
       "      <td>506.0</td>\n",
       "      <td>3.795043</td>\n",
       "      <td>2.105710</td>\n",
       "      <td>1.12960</td>\n",
       "      <td>3.20745</td>\n",
       "      <td>12.1265</td>\n",
       "      <td>DIS</td>\n",
       "    </tr>\n",
       "    <tr>\n",
       "      <th>RAD</th>\n",
       "      <td>506.0</td>\n",
       "      <td>9.549407</td>\n",
       "      <td>8.707259</td>\n",
       "      <td>1.00000</td>\n",
       "      <td>5.00000</td>\n",
       "      <td>24.0000</td>\n",
       "      <td>RAD</td>\n",
       "    </tr>\n",
       "    <tr>\n",
       "      <th>TAX</th>\n",
       "      <td>506.0</td>\n",
       "      <td>408.237154</td>\n",
       "      <td>168.537116</td>\n",
       "      <td>187.00000</td>\n",
       "      <td>330.00000</td>\n",
       "      <td>711.0000</td>\n",
       "      <td>TAX</td>\n",
       "    </tr>\n",
       "    <tr>\n",
       "      <th>PTRATIO</th>\n",
       "      <td>506.0</td>\n",
       "      <td>18.455534</td>\n",
       "      <td>2.164946</td>\n",
       "      <td>12.60000</td>\n",
       "      <td>19.05000</td>\n",
       "      <td>22.0000</td>\n",
       "      <td>PTRATIO</td>\n",
       "    </tr>\n",
       "    <tr>\n",
       "      <th>B</th>\n",
       "      <td>506.0</td>\n",
       "      <td>356.674032</td>\n",
       "      <td>91.294864</td>\n",
       "      <td>0.32000</td>\n",
       "      <td>391.44000</td>\n",
       "      <td>396.9000</td>\n",
       "      <td>B</td>\n",
       "    </tr>\n",
       "    <tr>\n",
       "      <th>LSTAT</th>\n",
       "      <td>506.0</td>\n",
       "      <td>12.653063</td>\n",
       "      <td>7.141062</td>\n",
       "      <td>1.73000</td>\n",
       "      <td>11.36000</td>\n",
       "      <td>37.9700</td>\n",
       "      <td>LSTAT</td>\n",
       "    </tr>\n",
       "    <tr>\n",
       "      <th>MEDV</th>\n",
       "      <td>506.0</td>\n",
       "      <td>22.532806</td>\n",
       "      <td>9.197104</td>\n",
       "      <td>5.00000</td>\n",
       "      <td>21.20000</td>\n",
       "      <td>50.0000</td>\n",
       "      <td>MEDV</td>\n",
       "    </tr>\n",
       "  </tbody>\n",
       "</table>\n",
       "</div>"
      ],
      "text/plain": [
       "         count        mean         std        min        med       max  \\\n",
       "CRIM     506.0    3.593761    8.596783    0.00632    0.25651   88.9762   \n",
       "ZN       506.0   11.363636   23.322453    0.00000    0.00000  100.0000   \n",
       "INDUS    506.0   11.136779    6.860353    0.46000    9.69000   27.7400   \n",
       "CHAS     506.0    0.069170    0.253994    0.00000    0.00000    1.0000   \n",
       "NOX      506.0    0.554695    0.115878    0.38500    0.53800    0.8710   \n",
       "RM       506.0    6.284634    0.702617    3.56100    6.20850    8.7800   \n",
       "AGE      506.0   68.574901   28.148861    2.90000   77.50000  100.0000   \n",
       "DIS      506.0    3.795043    2.105710    1.12960    3.20745   12.1265   \n",
       "RAD      506.0    9.549407    8.707259    1.00000    5.00000   24.0000   \n",
       "TAX      506.0  408.237154  168.537116  187.00000  330.00000  711.0000   \n",
       "PTRATIO  506.0   18.455534    2.164946   12.60000   19.05000   22.0000   \n",
       "B        506.0  356.674032   91.294864    0.32000  391.44000  396.9000   \n",
       "LSTAT    506.0   12.653063    7.141062    1.73000   11.36000   37.9700   \n",
       "MEDV     506.0   22.532806    9.197104    5.00000   21.20000   50.0000   \n",
       "\n",
       "            name  \n",
       "CRIM        CRIM  \n",
       "ZN            ZN  \n",
       "INDUS      INDUS  \n",
       "CHAS        CHAS  \n",
       "NOX          NOX  \n",
       "RM            RM  \n",
       "AGE          AGE  \n",
       "DIS          DIS  \n",
       "RAD          RAD  \n",
       "TAX          TAX  \n",
       "PTRATIO  PTRATIO  \n",
       "B              B  \n",
       "LSTAT      LSTAT  \n",
       "MEDV        MEDV  "
      ]
     },
     "execution_count": 7,
     "metadata": {},
     "output_type": "execute_result"
    }
   ],
   "source": [
    "df_describe = pd.DataFrame(boston.describe(), columns = boston.columns.values).T\n",
    "df_describe['name'] = list(boston.columns.values)\n",
    "df_describe.rename(columns={'50%': 'med'}, inplace=True)\n",
    "df_describe.drop(['25%', '75%'], 1, inplace=True)\n",
    "df_describe"
   ]
  },
  {
   "cell_type": "markdown",
   "metadata": {
    "ein.tags": [
     "worksheet-0"
    ],
    "slideshow": {
     "slide_type": "-"
    }
   },
   "source": [
    "### 1.4 Simple statistical tests\n",
    "\n",
    "Using a t-test, compare the median house value in locations that are adjacent to the Charles River to locations that are not adjacent to the Charles River. Do you reject the null hypothesis that prices are equivalent?"
   ]
  },
  {
   "cell_type": "code",
   "execution_count": 8,
   "metadata": {
    "autoscroll": "json-false",
    "collapsed": false,
    "ein.tags": [
     "worksheet-0"
    ],
    "slideshow": {
     "slide_type": "-"
    }
   },
   "outputs": [
    {
     "data": {
      "text/plain": [
       "Ttest_indResult(statistic=-3.9964374660905091, pvalue=7.3906231705199048e-05)"
      ]
     },
     "execution_count": 8,
     "metadata": {},
     "output_type": "execute_result"
    }
   ],
   "source": [
    "# T-test found here: http://stackoverflow.com/questions/13404468/t-test-in-pandas-python\n",
    "from scipy.stats import ttest_ind\n",
    "\n",
    "charles_not_adj = boston[boston['CHAS']== 0]\n",
    "charles_adj = boston[boston['CHAS']== 1]\n",
    "\n",
    "ttest_ind(charles_not_adj['MEDV'], charles_adj['MEDV'])"
   ]
  },
  {
   "cell_type": "markdown",
   "metadata": {
    "ein.tags": [
     "worksheet-0"
    ],
    "slideshow": {
     "slide_type": "-"
    }
   },
   "source": [
    "With a p-value of .0000739, you reject the null hypothesis that prices are equivalent. The p-value is less than .05 (alpha value), so the null hypothesis is rejected."
   ]
  },
  {
   "cell_type": "markdown",
   "metadata": {
    "ein.tags": [
     "worksheet-0"
    ],
    "slideshow": {
     "slide_type": "-"
    }
   },
   "source": [
    "---\n",
    "\n",
    "## Part 2: Histograms and Scatterplots\n",
    "\n",
    "\n",
    "### 2.1: Histogram of housing prices\n",
    "\n",
    "Below you will find some very basic code to make a very basic histogram of median housing prices (the \"target\" variable) for your dataset.  Your first task is to make this graph look pretty by doing the following:\n",
    "\n",
    "1. Add appropriate labels to the x and y axes, make sure to include units\n",
    "2. Change the bin width on the histogram to be $1000\n",
    "3. Remove the axes on the top and right side of the plot window\n",
    "4. Change the color of the bars to be green, and remove the black borders from the bars\n"
   ]
  },
  {
   "cell_type": "code",
   "execution_count": 9,
   "metadata": {
    "autoscroll": "json-false",
    "collapsed": false,
    "ein.tags": [
     "worksheet-0"
    ],
    "slideshow": {
     "slide_type": "-"
    }
   },
   "outputs": [
    {
     "data": {
      "image/png": "[encoded data removed]",
      "text/plain": [
       "<matplotlib.figure.Figure at 0x1147b1908>"
      ]
     },
     "metadata": {},
     "output_type": "display_data"
    }
   ],
   "source": [
    "# prepare IPython to work with matplotlib and import the library to something convenient\n",
    "%matplotlib inline  \n",
    "import matplotlib.pyplot as plt  \n",
    "\n",
    "hist = plt.hist(bdata.target, color = 'green', edgecolor = \"none\", bins=np.arange(0, max(bdata.target) + 1, 1))\n",
    "\n",
    "plt.xlabel(\"Median value of owner-occupied homes ($1000's)\")\n",
    "plt.ylabel('Quantity')\n",
    "plt.title('Number of median value of owner-occupied homes')\n",
    "\n",
    "ax = plt.subplot()\n",
    "# Hide the right and top spines\n",
    "ax.spines['right'].set_visible(False)\n",
    "ax.spines['top'].set_visible(False)\n",
    "\n",
    "# Show ticks on the left and bottom spines\n",
    "ax.yaxis.set_ticks_position('left')\n",
    "ax.xaxis.set_ticks_position('bottom')\n"
   ]
  },
  {
   "cell_type": "markdown",
   "metadata": {
    "ein.tags": [
     "worksheet-0"
    ],
    "slideshow": {
     "slide_type": "-"
    }
   },
   "source": [
    "### 2.2: Scatter plot of housing prices and crime\n",
    "\n",
    "Use matplotlib to create a scatter plot that shows the relationship between the median value of the home (y-axis) and the per-capita crime rate (x-axis).  Properly label your axes, and make sure that your graphic looks polished and professional.\n"
   ]
  },
  {
   "cell_type": "code",
   "execution_count": 19,
   "metadata": {
    "autoscroll": "json-false",
    "collapsed": false,
    "ein.tags": [
     "worksheet-0"
    ],
    "slideshow": {
     "slide_type": "-"
    }
   },
   "outputs": [
    {
     "name": "stdout",
     "output_type": "stream",
     "text": [
      "Correlation coefficient: -0.385831689884\n"
     ]
    },
    {
     "data": {
      "image/png": "[encoded data removed]",
      "text/plain": [
       "<matplotlib.figure.Figure at 0x115b914a8>"
      ]
     },
     "metadata": {},
     "output_type": "display_data"
    }
   ],
   "source": [
    "plt.scatter(boston.CRIM, boston.MEDV)\n",
    "plt.xlabel(\"Per-Capita Crime Rate (By Town)\")\n",
    "plt.ylabel(\"Median value of owner-occupied homes ($1000's)\")\n",
    "plt.title(\"Per-capita crime rate vs. median value of owner-occupied homes\", y=1.08)\n",
    "plt.xlim(xmin=-2)\n",
    "\n",
    "ax = plt.subplot()\n",
    "# Hide the right and top spines\n",
    "ax.spines['right'].set_visible(False)\n",
    "ax.spines['top'].set_visible(False)\n",
    "\n",
    "# Show ticks on the left and bottom spines\n",
    "ax.yaxis.set_ticks_position('left')\n",
    "ax.xaxis.set_ticks_position('bottom')\n",
    "\n",
    "# correlation coefficient\n",
    "corr = np.corrcoef(boston['CRIM'], boston['MEDV'])\n",
    "print (\"Correlation coefficient: \" + str(corr[0,1]))"
   ]
  },
  {
   "cell_type": "markdown",
   "metadata": {
    "ein.tags": [
     "worksheet-0"
    ],
    "slideshow": {
     "slide_type": "-"
    }
   },
   "source": [
    "### 2.3: Interpret\n",
    "\n",
    "What do you observe in the above scatter plot? Does there appear to be a relationship between crime rates and housing prices in Boston? Calculate the correlation between these two variables. Do you think this relationship is causal, or just a correlation? Justify your position."
   ]
  },
  {
   "cell_type": "markdown",
   "metadata": {
    "ein.tags": [
     "worksheet-0"
    ],
    "slideshow": {
     "slide_type": "-"
    }
   },
   "source": [
    "Looking at the scatter plot, it looks like the pattern is decreasing in a negative direction. After calculating the correlation coefficient (-0.3858) this indicates a negative correlation between per-capita crime rate and median value of owner-occupied homes. However, the correlation coefficient is neither close to 1 or -1 but closest to 0. The value 0 indicates no correlation, but because the value is negative, this relationship is considered to be a slightly negative correlation and not at all a strong negative correlation.\n",
    "\n",
    "This relationship is correlational, especially with a low correlation value. However because the value is closest to 0 (no correlation) rather than -1 (negative correlation), the slight negative correlation may be influenced by unaccounted confounding variables affecting the results."
   ]
  },
  {
   "cell_type": "markdown",
   "metadata": {
    "ein.tags": [
     "worksheet-0"
    ],
    "slideshow": {
     "slide_type": "-"
    }
   },
   "source": [
    "### 2.4 Correlation Matrix\n",
    "\n",
    "Calculate the correlation of every pair of variables in the dataset. Create a *K* x *K* matrix where the value in the (*i*,*j*) cell is the correlation between the *i*th and *j*th variable. Show off your skills by coloring the cell so that large positive correlations appear green and large negative correlations appear green (use a gradient to make this pretty). What two variables appear to me most positively and negatively correlated?"
   ]
  },
  {
   "cell_type": "code",
   "execution_count": 60,
   "metadata": {
    "autoscroll": "json-false",
    "collapsed": false,
    "ein.tags": [
     "worksheet-0"
    ],
    "slideshow": {
     "slide_type": "-"
    }
   },
   "outputs": [
    {
     "data": {
      "text/plain": [
       "(array([  0.5,   1.5,   2.5,   3.5,   4.5,   5.5,   6.5,   7.5,   8.5,\n",
       "          9.5,  10.5,  11.5,  12.5,  13.5]),\n",
       " <a list of 14 Text xticklabel objects>)"
      ]
     },
     "execution_count": 60,
     "metadata": {},
     "output_type": "execute_result"
    },
    {
     "data": {
      "image/png": "[encoded data removed]",
      "text/plain": [
       "<matplotlib.figure.Figure at 0x1177a0a58>"
      ]
     },
     "metadata": {},
     "output_type": "display_data"
    }
   ],
   "source": [
    "# Source for using seaborn for correlation matrix: http://stackoverflow.com/questions/29432629/correlation-matrix-using-pandas/31384328\n",
    "import seaborn as sns\n",
    "\n",
    "# Choosing the red and green color gradient\n",
    "cmap = sns.diverging_palette(373, 120, as_cmap=True)\n",
    "plt.title(\"Boston correlation matrix\")\n",
    "\n",
    "corr = boston.corr()\n",
    "sns.heatmap(corr, \n",
    "            xticklabels=corr.columns.values,\n",
    "            yticklabels=corr.columns.values,\n",
    "            cmap=cmap)\n",
    "plt.xticks(rotation=45)"
   ]
  },
  {
   "cell_type": "markdown",
   "metadata": {
    "ein.tags": [
     "worksheet-0"
    ],
    "slideshow": {
     "slide_type": "-"
    }
   },
   "source": [
    "By looking at the correlation matrix, the variables most positively correlated are full-value property-tax rate per ten thousand dollars (TAX) and index of accessibility to radial highways (RAD). These are the darkest green boxes. The variables most negatively correlated are proportion of non-retail business acres per town (INDUS) and weighted distances to five Boston employment centres (DIS), DIS and nitric oxides concentration (parts per 10 million) (NOX), proportion of owner-occupied units built prior to 1940 (AGE) and DIS, and percent lower status of the population (LSTAT) and median value of owner-occupied homes in thousands (MEDV). These are indicated by the darker red squares."
   ]
  },
  {
   "cell_type": "markdown",
   "metadata": {
    "ein.tags": [
     "worksheet-0"
    ],
    "slideshow": {
     "slide_type": "-"
    }
   },
   "source": [
    "### 2.5 Create your own (creative and effective) visualization\n",
    "\n",
    "Use another type of graph or chart to illustrate an interesting pattern in the data.  Be creative in your visualization, and make sure to produce a \"publication-quality\" graph.  Points will be given for useful and creative graphs; points will be deducted for confusing issues like unlabeled axes.  If you're new to data visualization, [this guide](http://pubs.aeaweb.org/doi/pdfplus/10.1257/jep.28.1.209) is a good place to start."
   ]
  },
  {
   "cell_type": "code",
   "execution_count": 61,
   "metadata": {
    "autoscroll": "json-false",
    "collapsed": false,
    "ein.tags": [
     "worksheet-0"
    ],
    "slideshow": {
     "slide_type": "-"
    }
   },
   "outputs": [
    {
     "data": {
      "text/plain": [
       "<matplotlib.text.Text at 0x11732a940>"
      ]
     },
     "execution_count": 61,
     "metadata": {},
     "output_type": "execute_result"
    },
    {
     "data": {
      "image/png": "[encoded data removed]",
      "text/plain": [
       "<matplotlib.figure.Figure at 0x118566160>"
      ]
     },
     "metadata": {},
     "output_type": "display_data"
    }
   ],
   "source": [
    "# stacked area chart\n",
    "df = pd.DataFrame(boston, columns=['MEDV', 'AGE'])\n",
    "df.plot.area();\n",
    "\n",
    "plt.xlabel(\"Entry\")\n",
    "plt.ylabel('Value')\n",
    "plt.title('Distribution of MEDV and AGE')"
   ]
  },
  {
   "cell_type": "code",
   "execution_count": null,
   "metadata": {
    "collapsed": true
   },
   "outputs": [],
   "source": []
  }
 ],
 "metadata": {
  "anaconda-cloud": {},
  "kernelspec": {
   "display_name": "Python [default]",
   "language": "python",
   "name": "python3"
  },
  "language_info": {
   "codemirror_mode": {
    "name": "ipython",
    "version": 3
   },
   "file_extension": ".py",
   "mimetype": "text/x-python",
   "name": "python",
   "nbconvert_exporter": "python",
   "pygments_lexer": "ipython3",
   "version": "3.5.2"
  },
  "name": "INFO371-PS1.ipynb"
 },
 "nbformat": 4,
 "nbformat_minor": 0
}
