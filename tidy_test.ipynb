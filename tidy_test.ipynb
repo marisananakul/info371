{
 "cells": [
  {
   "cell_type": "code",
   "execution_count": 1,
   "metadata": {
    "collapsed": true
   },
   "outputs": [],
   "source": [
    "import IPython\n",
    "import numpy as np\n",
    "import scipy as sp\n",
    "import pandas as pd\n",
    "import matplotlib.pyplot as plt\n",
    "import sklearn\n",
    "import statsmodels.api as sm"
   ]
  },
  {
   "cell_type": "code",
   "execution_count": 2,
   "metadata": {
    "collapsed": false
   },
   "outputs": [
    {
     "name": "stdout",
     "output_type": "stream",
     "text": [
      "   Unnamed: 0  delta_time  avg_speed  avg_steer  avg_brake  avg_track  \\\n",
      "0        2263       0.002  50.621512   0.000478  -1.016235  43.603174   \n",
      "1        2264       0.012  50.671839  -0.000119  -0.238037  43.598031   \n",
      "2        2265       0.022  50.678861  -0.000716   0.189209  43.592889   \n",
      "3        2266       0.032  50.695912  -0.000119   0.219726  43.587747   \n",
      "4        2267       0.042  50.709165  -0.000478   0.027466  43.582605   \n",
      "\n",
      "   TPMS_IR_Temp_Tyre_FL_c  \n",
      "0               42.999994  \n",
      "1               42.999994  \n",
      "2               42.999994  \n",
      "3               42.999994  \n",
      "4               42.999994  \n"
     ]
    }
   ],
   "source": [
    "tidy = pd.read_csv('data/tidy.csv')\n",
    "print(tidy)"
   ]
  },
  {
   "cell_type": "code",
   "execution_count": 3,
   "metadata": {
    "collapsed": true
   },
   "outputs": [],
   "source": [
    "#x_train = np.array([row[2]for row in tidy])\n",
    "#y_train = np.array([row[6] for row in tidy])\n",
    "\n",
    "# https://stackoverflow.com/questions/21065938/read-a-single-column-of-a-csv-and-store-in-an-array\n",
    "tidy.columns = [\"Unnamed: 0\", \"delta_time\", \"avg_speed\", \"avg_steer\", \"avg_brake\", \"avg_track\", \"TPMS_IR_Temp_Tyre_FL_c\"]\n",
    "x_train1 = tidy['avg_speed'].values\n",
    "\n",
    "x_train = list(tidy.avg_speed)\n",
    "y_train = list(tidy.TPMS_IR_Temp_Tyre_FL_c)"
   ]
  },
  {
   "cell_type": "code",
   "execution_count": 4,
   "metadata": {
    "collapsed": false
   },
   "outputs": [
    {
     "name": "stdout",
     "output_type": "stream",
     "text": [
      "[ 50.621512    50.671839    50.67886133  50.6959125   50.7091648 ]\n"
     ]
    }
   ],
   "source": [
    "print(x_train1)"
   ]
  },
  {
   "cell_type": "code",
   "execution_count": 5,
   "metadata": {
    "collapsed": false
   },
   "outputs": [
    {
     "name": "stdout",
     "output_type": "stream",
     "text": [
      "[50.621512000000003, 50.671838999999999, 50.678861329999997, 50.695912499999999, 50.709164799999996]\n"
     ]
    }
   ],
   "source": [
    "print(x_train)"
   ]
  },
  {
   "cell_type": "code",
   "execution_count": 6,
   "metadata": {
    "collapsed": false
   },
   "outputs": [
    {
     "name": "stdout",
     "output_type": "stream",
     "text": [
      "[42.999994000000001, 42.999994000000001, 42.999994000000001, 42.999994000000001, 42.999994000000001]\n",
      "[1 2 3 4]\n"
     ]
    }
   ],
   "source": [
    "print(y_train)\n",
    "d = np.array([1, 2, 3, 4])\n",
    "print(d)"
   ]
  },
  {
   "cell_type": "code",
   "execution_count": null,
   "metadata": {
    "collapsed": true
   },
   "outputs": [],
   "source": []
  }
 ],
 "metadata": {
  "anaconda-cloud": {},
  "kernelspec": {
   "display_name": "Python [conda root]",
   "language": "python",
   "name": "conda-root-py"
  },
  "language_info": {
   "codemirror_mode": {
    "name": "ipython",
    "version": 3
   },
   "file_extension": ".py",
   "mimetype": "text/x-python",
   "name": "python",
   "nbconvert_exporter": "python",
   "pygments_lexer": "ipython3",
   "version": "3.5.2"
  }
 },
 "nbformat": 4,
 "nbformat_minor": 1
}
