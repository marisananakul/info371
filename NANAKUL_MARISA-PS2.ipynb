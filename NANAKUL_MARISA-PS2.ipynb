{
 "cells": [
  {
   "cell_type": "markdown",
   "metadata": {
    "ein.tags": [
     "worksheet-0"
    ],
    "slideshow": {
     "slide_type": "-"
    }
   },
   "source": [
    "# Problem Set 2, due April 26 at 3:30pm."
   ]
  },
  {
   "cell_type": "markdown",
   "metadata": {
    "ein.tags": [
     "worksheet-0"
    ],
    "slideshow": {
     "slide_type": "-"
    }
   },
   "source": [
    "## Introduction to the assignment\n",
    "\n",
    "For this assignment, you will be using data from the [Progresa program](http://en.wikipedia.org/wiki/Oportunidades), a government social assistance program in Mexico. This program, as well as the details of its impact, are described in the paper \"[School subsidies for the poor: evaluating the Mexican Progresa poverty program](http://www.sciencedirect.com/science/article/pii/S0304387803001858)\", by Paul Shultz (available on Canvas). Please familiarize yourself with the PROGRESA program before beginning this problem set, so you have a rough sense of where the data come from and how they were generated. If you just proceed into the problem set without understanding Progresa or the data, it will be very difficult!\n",
    "\n",
    "The goal of this problem set is to implement some of the basic econometric techniques that you are learning in class to measure the impact of Progresa on secondary school enrollment rates. The timeline of the program was:\n",
    "\n",
    " * Baseline survey conducted in 1997\n",
    " * Intervention begins in 1998, \"Wave 1\" of data collected in 1998\n",
    " * \"Wave 2 of data\" collected in 1999\n",
    " * Evaluation ends in 2000, at which point the control villages were treated. \n",
    " \n",
    "When you are ready, download the progresa_sample.csv data from Canvas. The data are actual data collected to evaluate the impact of the Progresa program.  In this file, each row corresponds to an observation taken for a given child for a given year. There are two years of data (1997 and 1998), and just under 40,000 children who are surveyed in both years.  For each child-year observation, the following variables are collected:\n",
    "\n",
    "| Variable name | Description|\n",
    "|------|------|\n",
    "|year\t  |year in which data is collected\n",
    "|sex\t  |male = 1|\n",
    "|indig\t  |indigenous = 1|\n",
    "|dist_sec |nearest distance to a secondary school|\n",
    "|sc\t      |enrolled in school in year of survey|\n",
    "|grc      |grade enrolled|\n",
    "|fam_n    |family size|\n",
    "|min_dist |\tmin distance to an urban center|\n",
    "|dist_cap |\tmin distance to the capital|\n",
    "|poor     |\tpoor = \"pobre\"|\n",
    "|progresa |treatment = \"basal\"|\n",
    "|hohedu\t  |years of schooling of head of household|\n",
    "|hohwag\t  |monthly wages of head of household|\n",
    "|welfare_index|\twelfare index used to classify poor|\n",
    "|hohsex\t|gender of head of household (male=1)|\n",
    "|hohage\t|age of head of household|\n",
    "|age\t|years old|\n",
    "|folnum\t|individual id|\n",
    "|village|\tvillage id|\n",
    "|sc97\t|schooling in 1997|"
   ]
  },
  {
   "cell_type": "markdown",
   "metadata": {
    "ein.tags": [
     "worksheet-0"
    ],
    "slideshow": {
     "slide_type": "-"
    }
   },
   "source": [
    "---\n",
    "\n",
    "## Part 1: Descriptive analysis\n",
    "\n",
    "### 1.1\tSummary Statistics\n",
    "\n",
    "Present summary statistics (mean and standard deviation) for all of the demographic variables in the dataset (i.e., everything except year, folnum, village). Present these in a single table alphabetized by variable name. Do NOT simply expect the grader to scroll through your output!"
   ]
  },
  {
   "cell_type": "code",
   "execution_count": 1,
   "metadata": {
    "autoscroll": "json-false",
    "collapsed": false,
    "ein.tags": [
     "worksheet-0"
    ],
    "slideshow": {
     "slide_type": "-"
    }
   },
   "outputs": [],
   "source": [
    "# import libraries\n",
    "import IPython\n",
    "import numpy as np\n",
    "import scipy as sp\n",
    "import pandas as pd\n",
    "import matplotlib.pyplot as plt\n",
    "import sklearn\n",
    "import statsmodels.api as sm"
   ]
  },
  {
   "cell_type": "code",
   "execution_count": 2,
   "metadata": {
    "collapsed": false
   },
   "outputs": [
    {
     "data": {
      "text/html": [
       "<div>\n",
       "<table border=\"1\" class=\"dataframe\">\n",
       "  <thead>\n",
       "    <tr style=\"text-align: right;\">\n",
       "      <th></th>\n",
       "      <th>Name</th>\n",
       "      <th>Mean</th>\n",
       "      <th>Standard Deviation</th>\n",
       "    </tr>\n",
       "  </thead>\n",
       "  <tbody>\n",
       "    <tr>\n",
       "      <th>14</th>\n",
       "      <td>age</td>\n",
       "      <td>11.366460</td>\n",
       "      <td>3.167744</td>\n",
       "    </tr>\n",
       "    <tr>\n",
       "      <th>8</th>\n",
       "      <td>dist_cap</td>\n",
       "      <td>147.674452</td>\n",
       "      <td>76.063134</td>\n",
       "    </tr>\n",
       "    <tr>\n",
       "      <th>3</th>\n",
       "      <td>dist_sec</td>\n",
       "      <td>2.418910</td>\n",
       "      <td>2.234109</td>\n",
       "    </tr>\n",
       "    <tr>\n",
       "      <th>6</th>\n",
       "      <td>fam_n</td>\n",
       "      <td>7.215715</td>\n",
       "      <td>2.352900</td>\n",
       "    </tr>\n",
       "    <tr>\n",
       "      <th>5</th>\n",
       "      <td>grc</td>\n",
       "      <td>3.963537</td>\n",
       "      <td>2.499063</td>\n",
       "    </tr>\n",
       "    <tr>\n",
       "      <th>17</th>\n",
       "      <td>grc97</td>\n",
       "      <td>3.705372</td>\n",
       "      <td>2.572387</td>\n",
       "    </tr>\n",
       "    <tr>\n",
       "      <th>13</th>\n",
       "      <td>hohage</td>\n",
       "      <td>44.436717</td>\n",
       "      <td>11.620372</td>\n",
       "    </tr>\n",
       "    <tr>\n",
       "      <th>9</th>\n",
       "      <td>hohedu</td>\n",
       "      <td>2.768104</td>\n",
       "      <td>2.656106</td>\n",
       "    </tr>\n",
       "    <tr>\n",
       "      <th>12</th>\n",
       "      <td>hohsex</td>\n",
       "      <td>0.925185</td>\n",
       "      <td>0.263095</td>\n",
       "    </tr>\n",
       "    <tr>\n",
       "      <th>10</th>\n",
       "      <td>hohwag</td>\n",
       "      <td>586.985312</td>\n",
       "      <td>788.133664</td>\n",
       "    </tr>\n",
       "    <tr>\n",
       "      <th>2</th>\n",
       "      <td>indig</td>\n",
       "      <td>0.298324</td>\n",
       "      <td>0.457525</td>\n",
       "    </tr>\n",
       "    <tr>\n",
       "      <th>7</th>\n",
       "      <td>min_dist</td>\n",
       "      <td>103.447520</td>\n",
       "      <td>42.089441</td>\n",
       "    </tr>\n",
       "    <tr>\n",
       "      <th>4</th>\n",
       "      <td>sc</td>\n",
       "      <td>0.819818</td>\n",
       "      <td>0.384342</td>\n",
       "    </tr>\n",
       "    <tr>\n",
       "      <th>18</th>\n",
       "      <td>sc97</td>\n",
       "      <td>0.813922</td>\n",
       "      <td>0.389172</td>\n",
       "    </tr>\n",
       "    <tr>\n",
       "      <th>1</th>\n",
       "      <td>sex</td>\n",
       "      <td>0.512211</td>\n",
       "      <td>0.499854</td>\n",
       "    </tr>\n",
       "    <tr>\n",
       "      <th>11</th>\n",
       "      <td>welfare_index</td>\n",
       "      <td>690.346564</td>\n",
       "      <td>139.491130</td>\n",
       "    </tr>\n",
       "  </tbody>\n",
       "</table>\n",
       "</div>"
      ],
      "text/plain": [
       "             Name        Mean  Standard Deviation\n",
       "14            age   11.366460            3.167744\n",
       "8        dist_cap  147.674452           76.063134\n",
       "3        dist_sec    2.418910            2.234109\n",
       "6           fam_n    7.215715            2.352900\n",
       "5             grc    3.963537            2.499063\n",
       "17          grc97    3.705372            2.572387\n",
       "13         hohage   44.436717           11.620372\n",
       "9          hohedu    2.768104            2.656106\n",
       "12         hohsex    0.925185            0.263095\n",
       "10         hohwag  586.985312          788.133664\n",
       "2           indig    0.298324            0.457525\n",
       "7        min_dist  103.447520           42.089441\n",
       "4              sc    0.819818            0.384342\n",
       "18           sc97    0.813922            0.389172\n",
       "1             sex    0.512211            0.499854\n",
       "11  welfare_index  690.346564          139.491130"
      ]
     },
     "execution_count": 2,
     "metadata": {},
     "output_type": "execute_result"
    }
   ],
   "source": [
    "progresa = pd.read_csv('data/progresa_sample.csv')\n",
    "\n",
    "mean = progresa.mean()\n",
    "standard_deviation = progresa.std(axis=0)\n",
    "\n",
    "summary = pd.concat([mean, standard_deviation], axis=1).reset_index()\n",
    "summary.columns = ['Name', 'Mean', 'Standard Deviation']\n",
    "summary.sort_values(by='Name', ascending=True, inplace=True)\n",
    "summary.drop(summary.index[[4, 16, 18]], inplace=True)\n",
    "summary"
   ]
  },
  {
   "cell_type": "markdown",
   "metadata": {
    "ein.tags": [
     "worksheet-0"
    ],
    "slideshow": {
     "slide_type": "-"
    }
   },
   "source": [
    "### 1.2 Differences at baseline?\n",
    "\n",
    "Are the baseline (1997) demographic characteristics **for the poor**  different in treatment and control villages? Hint: Use a T-Test to determine whether there is a statistically significant difference in the average values of each of the variables in the dataset. Focus only on the data from 1997 for individuals who are poor (i.e., poor=='pobre').\n",
    "\n",
    "Present your results in a single table with the following columns and 14 (or so) rows:\n",
    "\n",
    "| Variable name | Average value (Treatment villages) | Average value (Control villages) | Difference (Treat - Control) | p-value |\n",
    "|------|------|------|------|------|\n",
    "|Male|?|?|?|?|\n"
   ]
  },
  {
   "cell_type": "code",
   "execution_count": 3,
   "metadata": {
    "autoscroll": "json-false",
    "collapsed": false,
    "ein.tags": [
     "worksheet-0"
    ],
    "slideshow": {
     "slide_type": "-"
    }
   },
   "outputs": [
    {
     "data": {
      "text/html": [
       "<div>\n",
       "<table border=\"1\" class=\"dataframe\">\n",
       "  <thead>\n",
       "    <tr style=\"text-align: right;\">\n",
       "      <th></th>\n",
       "      <th>Average value (Treatment villages)</th>\n",
       "      <th>Average value(Control villages)</th>\n",
       "      <th>Difference (Treat-Control)</th>\n",
       "      <th>Name</th>\n",
       "      <th>p-value</th>\n",
       "    </tr>\n",
       "  </thead>\n",
       "  <tbody>\n",
       "    <tr>\n",
       "      <th>age</th>\n",
       "      <td>10.743825</td>\n",
       "      <td>10.785586</td>\n",
       "      <td>-0.041761</td>\n",
       "      <td>age</td>\n",
       "      <td>2.476155e-01</td>\n",
       "    </tr>\n",
       "    <tr>\n",
       "      <th>dist_cap</th>\n",
       "      <td>151.801472</td>\n",
       "      <td>154.492095</td>\n",
       "      <td>-2.690622</td>\n",
       "      <td>dist_cap</td>\n",
       "      <td>3.414194e-03</td>\n",
       "    </tr>\n",
       "    <tr>\n",
       "      <th>dist_sec</th>\n",
       "      <td>2.399648</td>\n",
       "      <td>2.400687</td>\n",
       "      <td>-0.001039</td>\n",
       "      <td>dist_sec</td>\n",
       "      <td>9.670949e-01</td>\n",
       "    </tr>\n",
       "    <tr>\n",
       "      <th>fam_n</th>\n",
       "      <td>7.281032</td>\n",
       "      <td>7.302939</td>\n",
       "      <td>-0.021907</td>\n",
       "      <td>fam_n</td>\n",
       "      <td>4.236088e-01</td>\n",
       "    </tr>\n",
       "    <tr>\n",
       "      <th>grc</th>\n",
       "      <td>3.709214</td>\n",
       "      <td>3.733653</td>\n",
       "      <td>-0.024439</td>\n",
       "      <td>grc</td>\n",
       "      <td>3.947750e-01</td>\n",
       "    </tr>\n",
       "    <tr>\n",
       "      <th>grc97</th>\n",
       "      <td>3.709214</td>\n",
       "      <td>3.733653</td>\n",
       "      <td>-0.024439</td>\n",
       "      <td>grc97</td>\n",
       "      <td>3.947750e-01</td>\n",
       "    </tr>\n",
       "    <tr>\n",
       "      <th>hohage</th>\n",
       "      <td>43.631234</td>\n",
       "      <td>44.270717</td>\n",
       "      <td>-0.639483</td>\n",
       "      <td>hohage</td>\n",
       "      <td>1.925767e-06</td>\n",
       "    </tr>\n",
       "    <tr>\n",
       "      <th>hohedu</th>\n",
       "      <td>2.726729</td>\n",
       "      <td>2.660982</td>\n",
       "      <td>0.065747</td>\n",
       "      <td>hohedu</td>\n",
       "      <td>2.613239e-02</td>\n",
       "    </tr>\n",
       "    <tr>\n",
       "      <th>hohsex</th>\n",
       "      <td>0.925586</td>\n",
       "      <td>0.923387</td>\n",
       "      <td>0.002199</td>\n",
       "      <td>hohsex</td>\n",
       "      <td>4.781232e-01</td>\n",
       "    </tr>\n",
       "    <tr>\n",
       "      <th>hohwag</th>\n",
       "      <td>550.207086</td>\n",
       "      <td>580.694452</td>\n",
       "      <td>-30.487366</td>\n",
       "      <td>hohwag</td>\n",
       "      <td>2.727661e-04</td>\n",
       "    </tr>\n",
       "    <tr>\n",
       "      <th>indig</th>\n",
       "      <td>0.316744</td>\n",
       "      <td>0.325306</td>\n",
       "      <td>-0.008562</td>\n",
       "      <td>indig</td>\n",
       "      <td>1.183760e-01</td>\n",
       "    </tr>\n",
       "    <tr>\n",
       "      <th>min_dist</th>\n",
       "      <td>107.395231</td>\n",
       "      <td>103.098348</td>\n",
       "      <td>4.296884</td>\n",
       "      <td>min_dist</td>\n",
       "      <td>1.936661e-18</td>\n",
       "    </tr>\n",
       "    <tr>\n",
       "      <th>sc</th>\n",
       "      <td>0.822697</td>\n",
       "      <td>0.815066</td>\n",
       "      <td>0.007631</td>\n",
       "      <td>sc</td>\n",
       "      <td>9.117959e-02</td>\n",
       "    </tr>\n",
       "    <tr>\n",
       "      <th>sc97</th>\n",
       "      <td>0.822697</td>\n",
       "      <td>0.815066</td>\n",
       "      <td>0.007631</td>\n",
       "      <td>sc97</td>\n",
       "      <td>9.117959e-02</td>\n",
       "    </tr>\n",
       "    <tr>\n",
       "      <th>sex</th>\n",
       "      <td>0.520268</td>\n",
       "      <td>0.506556</td>\n",
       "      <td>0.013713</td>\n",
       "      <td>sex</td>\n",
       "      <td>1.956962e-02</td>\n",
       "    </tr>\n",
       "    <tr>\n",
       "      <th>welfare_index</th>\n",
       "      <td>656.810476</td>\n",
       "      <td>661.593513</td>\n",
       "      <td>-4.783037</td>\n",
       "      <td>welfare_index</td>\n",
       "      <td>3.724043e-04</td>\n",
       "    </tr>\n",
       "  </tbody>\n",
       "</table>\n",
       "</div>"
      ],
      "text/plain": [
       "               Average value (Treatment villages)  \\\n",
       "age                                     10.743825   \n",
       "dist_cap                               151.801472   \n",
       "dist_sec                                 2.399648   \n",
       "fam_n                                    7.281032   \n",
       "grc                                      3.709214   \n",
       "grc97                                    3.709214   \n",
       "hohage                                  43.631234   \n",
       "hohedu                                   2.726729   \n",
       "hohsex                                   0.925586   \n",
       "hohwag                                 550.207086   \n",
       "indig                                    0.316744   \n",
       "min_dist                               107.395231   \n",
       "sc                                       0.822697   \n",
       "sc97                                     0.822697   \n",
       "sex                                      0.520268   \n",
       "welfare_index                          656.810476   \n",
       "\n",
       "               Average value(Control villages)  Difference (Treat-Control)  \\\n",
       "age                                  10.785586                   -0.041761   \n",
       "dist_cap                            154.492095                   -2.690622   \n",
       "dist_sec                              2.400687                   -0.001039   \n",
       "fam_n                                 7.302939                   -0.021907   \n",
       "grc                                   3.733653                   -0.024439   \n",
       "grc97                                 3.733653                   -0.024439   \n",
       "hohage                               44.270717                   -0.639483   \n",
       "hohedu                                2.660982                    0.065747   \n",
       "hohsex                                0.923387                    0.002199   \n",
       "hohwag                              580.694452                  -30.487366   \n",
       "indig                                 0.325306                   -0.008562   \n",
       "min_dist                            103.098348                    4.296884   \n",
       "sc                                    0.815066                    0.007631   \n",
       "sc97                                  0.815066                    0.007631   \n",
       "sex                                   0.506556                    0.013713   \n",
       "welfare_index                       661.593513                   -4.783037   \n",
       "\n",
       "                        Name       p-value  \n",
       "age                      age  2.476155e-01  \n",
       "dist_cap            dist_cap  3.414194e-03  \n",
       "dist_sec            dist_sec  9.670949e-01  \n",
       "fam_n                  fam_n  4.236088e-01  \n",
       "grc                      grc  3.947750e-01  \n",
       "grc97                  grc97  3.947750e-01  \n",
       "hohage                hohage  1.925767e-06  \n",
       "hohedu                hohedu  2.613239e-02  \n",
       "hohsex                hohsex  4.781232e-01  \n",
       "hohwag                hohwag  2.727661e-04  \n",
       "indig                  indig  1.183760e-01  \n",
       "min_dist            min_dist  1.936661e-18  \n",
       "sc                        sc  9.117959e-02  \n",
       "sc97                    sc97  9.117959e-02  \n",
       "sex                      sex  1.956962e-02  \n",
       "welfare_index  welfare_index  3.724043e-04  "
      ]
     },
     "execution_count": 3,
     "metadata": {},
     "output_type": "execute_result"
    }
   ],
   "source": [
    "from scipy.stats import ttest_ind\n",
    "\n",
    "# dataframe with only poor and year 1997\n",
    "poor_97_df = progresa\n",
    "poor_97_df = poor_97_df[poor_97_df.year != 98]\n",
    "poor_97_df = poor_97_df[poor_97_df.poor != \"no pobre\"]\n",
    "\n",
    "# dataframe with treatment\n",
    "treatment_df = poor_97_df[poor_97_df.progresa != \"0\"]\n",
    "treatment_df = treatment_df.drop(['poor', 'progresa', 'year', 'folnum', 'village'], axis=1)\n",
    "treatment_df = treatment_df.dropna()\n",
    "treat_mean = treatment_df.mean()\n",
    "\n",
    "# # dataframe with no treatment\n",
    "no_treatment_df = poor_97_df[poor_97_df.progresa != \"basal\"]\n",
    "no_treatment_df = no_treatment_df.drop(['poor', 'progresa', 'year', 'folnum', 'village'], axis=1)\n",
    "no_treatment_df = no_treatment_df.dropna()\n",
    "no_treat_mean = no_treatment_df.mean()\n",
    "\n",
    "difference = treat_mean - no_treat_mean\n",
    "\n",
    "columns = (progresa.columns).tolist()\n",
    "columns.remove('year')\n",
    "columns.remove('folnum')\n",
    "columns.remove('village')\n",
    "columns.remove('poor')\n",
    "columns.remove('progresa')\n",
    "columns\n",
    "p_values = []\n",
    "\n",
    "for c in columns:\n",
    "    stat, p = ttest_ind(treatment_df[c], no_treatment_df[c], nan_policy=\"omit\")\n",
    "    p_values.append(p)\n",
    "\n",
    "baseline = pd.DataFrame({'Name': columns, 'Average value (Treatment villages)': treat_mean, 'Average value(Control villages)': no_treat_mean, 'Difference (Treat-Control)': difference})\n",
    "baseline['p-value'] = p_values\n",
    "baseline.sort_values(by='Name', ascending=True, inplace=True)\n",
    "baseline"
   ]
  },
  {
   "cell_type": "markdown",
   "metadata": {
    "ein.tags": [
     "worksheet-0"
    ],
    "slideshow": {
     "slide_type": "-"
    }
   },
   "source": [
    "### 1.3 Interpretation\n",
    "\n",
    "* A: Are there statistically significant differences between treatment and control villages as baseline?\n",
    "* B: Why does it matter if there are differences at baseline?\n",
    "* C: What does this imply about how to measure the impact of the treatment?"
   ]
  },
  {
   "cell_type": "markdown",
   "metadata": {
    "ein.tags": [
     "worksheet-0"
    ],
    "slideshow": {
     "slide_type": "-"
    }
   },
   "source": [
    "A. Some variables have statistically significant differences between treatment and control villages as baseline while others don't. The ones that have a p-value greater than .05 are: dist_sec, age, fam_n, grc, grc97, hohsex, and indig. This shows variability in the variables.\n",
    "\n",
    "B. If there are differences at baseline, that means that the variables were different to begin with. This matters because if the variables were different to begin with, that means the differences cannot be attributed to the effects of the treatment.\n",
    "\n",
    "C. This implies that the differences cannot be directly attributed to or impacted by the treatment because the variables were different to begin with."
   ]
  },
  {
   "cell_type": "markdown",
   "metadata": {
    "ein.tags": [
     "worksheet-0"
    ],
    "slideshow": {
     "slide_type": "-"
    }
   },
   "source": [
    "### 1.4 Graphical exploration, part 1\n",
    "\n",
    "For each level of household head education, compute the average enrollment rate in 1997. Create a scatterplot that shows this relationship. What do you notice?"
   ]
  },
  {
   "cell_type": "code",
   "execution_count": 4,
   "metadata": {
    "autoscroll": "json-false",
    "collapsed": false,
    "ein.tags": [
     "worksheet-0"
    ],
    "slideshow": {
     "slide_type": "-"
    }
   },
   "outputs": [
    {
     "data": {
      "image/png": "[encoded data removed]",
      "text/plain": [
       "<matplotlib.figure.Figure at 0x1153657b8>"
      ]
     },
     "metadata": {},
     "output_type": "display_data"
    }
   ],
   "source": [
    "hohedu_97_df = pd.DataFrame(data=progresa, columns=['year', 'hohedu', 'sc'])\n",
    "\n",
    "y = hohedu_97_df[hohedu_97_df.year != 98].groupby('hohedu').mean()['sc']\n",
    "\n",
    "x = y.index\n",
    "\n",
    "plt.scatter(x,y)\n",
    "plt.title(\"Level of Household Education and Average Enrollment Rate\")\n",
    "plt.xlabel(\"Level of Household Education\")\n",
    "plt.ylabel(\"Average Enrollment Rate\")\n",
    "plt.show()"
   ]
  },
  {
   "cell_type": "markdown",
   "metadata": {
    "ein.tags": [
     "worksheet-0"
    ],
    "slideshow": {
     "slide_type": "-"
    }
   },
   "source": [
    "I notice that the more years of schooling the head of household has, the general trend is that the enrollment rate moves in a positive, almost linear direction. There is also an outlier near the 20th level which may influence linear regression results."
   ]
  },
  {
   "cell_type": "markdown",
   "metadata": {
    "ein.tags": [
     "worksheet-0"
    ],
    "slideshow": {
     "slide_type": "-"
    }
   },
   "source": [
    "### 1.5 Graphical exploration, part 2\n",
    "\n",
    "Create a histogram of village enrollment rates **among poor households in treated villages**, before and after treatment. Specifically, for each village, calculate the average rate of enrollment of poor households in treated villages in 1997, then compute the average rate of enrollment of poor households in treated villages in 1998. Create two separate histograms showing the distribution of these average enrollments rates, one histogram for 1997 and one histogram for 1998. On each histogram, draw a vertical line that intersects the x-axis at the average value (across all households). Does there appear to be a difference? Is this difference statistically significant?"
   ]
  },
  {
   "cell_type": "code",
   "execution_count": 5,
   "metadata": {
    "autoscroll": "json-false",
    "collapsed": false,
    "ein.tags": [
     "worksheet-0"
    ],
    "slideshow": {
     "slide_type": "-"
    }
   },
   "outputs": [
    {
     "data": {
      "image/png": "[encoded data removed]",
      "text/plain": [
       "<matplotlib.figure.Figure at 0x104a2d748>"
      ]
     },
     "metadata": {},
     "output_type": "display_data"
    },
    {
     "data": {
      "image/png": "[encoded data removed]",
      "text/plain": [
       "<matplotlib.figure.Figure at 0x117d0d6a0>"
      ]
     },
     "metadata": {},
     "output_type": "display_data"
    },
    {
     "data": {
      "text/plain": [
       "Ttest_indResult(statistic=-2.0157134865156379, pvalue=0.04424870036572115)"
      ]
     },
     "execution_count": 5,
     "metadata": {},
     "output_type": "execute_result"
    }
   ],
   "source": [
    "# dataframe with year 1997, poor, treatment data\n",
    "poor_treat_97_df = pd.DataFrame(data=progresa, columns=['year', 'poor', 'sc', 'progresa', 'village'])\n",
    "poor_treat_97_df = poor_treat_97_df[poor_treat_97_df.year !=98]\n",
    "poor_treat_97_df = poor_treat_97_df[poor_treat_97_df.poor != \"no pobre\"]\n",
    "poor_treat_97_df = poor_treat_97_df[poor_treat_97_df.progresa != \"0\"]\n",
    "poor_treat_97_df = poor_treat_97_df.groupby(\"village\")\n",
    "\n",
    "# average rate of enrollment for 1997, poor, treatment data\n",
    "avg_roe_97 = poor_treat_97_df.mean()['sc']\n",
    "\n",
    "plt.hist(avg_roe_97)\n",
    "plt.axvline(avg_roe_97.mean(), color = \"red\")\n",
    "plt.title(\"Distribution of average rate of enrollment in 1997 for treated villages\")\n",
    "plt.xlabel(\"Average rate of enrollment\")\n",
    "plt.ylabel(\"Quantity\")\n",
    "plt.show()\n",
    "\n",
    "# dataframe with year 1998, poor, control data\n",
    "poor_treat_98_df = pd.DataFrame(data=progresa, columns=['year', 'poor', 'sc', 'progresa', 'village'])\n",
    "poor_treat_98_df = poor_treat_98_df[poor_treat_98_df.year !=97]\n",
    "poor_treat_98_df = poor_treat_98_df[poor_treat_98_df.poor != \"no pobre\"]\n",
    "poor_treat_98_df = poor_treat_98_df[poor_treat_98_df.progresa != \"0\"]\n",
    "poor_treat_98_df = poor_treat_98_df.groupby(\"village\")\n",
    "\n",
    "# average rate of enrollment for 1998, poor, control data\n",
    "avg_roe_98 = poor_treat_98_df.mean()['sc']\n",
    "\n",
    "plt.hist(avg_roe_98)\n",
    "plt.axvline(avg_roe_98.mean(), color = \"red\")\n",
    "plt.title(\"Distribution of average rate of enrollment in 1998 for treated villages\")\n",
    "plt.xlabel(\"Average rate of enrollment\")\n",
    "plt.ylabel(\"Quantity\")\n",
    "plt.show()\n",
    "\n",
    "p = ttest_ind(avg_roe_97, avg_roe_98, nan_policy=\"omit\")\n",
    "p"
   ]
  },
  {
   "cell_type": "markdown",
   "metadata": {
    "ein.tags": [
     "worksheet-0"
    ],
    "slideshow": {
     "slide_type": "-"
    }
   },
   "source": [
    "There is a difference between 1997 and 1998 for the distribution of average enrollment rates. The 1998 treated villages are skewed slightly more left than the 1997 treated villages. The averages for 1997 and 1998 are similar. With a p-value of .0442, the p-value is less than .05 meaning that the results are statistically significant."
   ]
  },
  {
   "cell_type": "markdown",
   "metadata": {
    "ein.tags": [
     "worksheet-0"
    ],
    "slideshow": {
     "slide_type": "-"
    }
   },
   "source": [
    "## Part 2: Measuring Impact\n",
    "\n",
    "Our goal is to estimate the causal impact of the PROGRESA program on the social and economic outcomes of individuals in Mexico. We will focus on the impact of the program on the poor (those with poor=='pobre'), since only the poor were eligible to receive the PROGRESA assistance.\n",
    "\n",
    "### 2.1 Simple differences: T-test\n",
    "\n",
    "Begin by estimating the impact of Progresa using \"simple differences.\" Restricting yourself to data from 1998 (after treatment), calculate the average enrollment rate among **poor** households in the Treatment villages and the average enrollment rate among **poor** households in the control villages. Use a t-test to determine if this difference is statistically significant. What do you conclude?"
   ]
  },
  {
   "cell_type": "code",
   "execution_count": 6,
   "metadata": {
    "autoscroll": "json-false",
    "collapsed": false,
    "ein.tags": [
     "worksheet-0"
    ],
    "slideshow": {
     "slide_type": "-"
    }
   },
   "outputs": [
    {
     "data": {
      "text/plain": [
       "Ttest_indResult(statistic=8.3587205674183735, pvalue=6.636344447378055e-17)"
      ]
     },
     "execution_count": 6,
     "metadata": {},
     "output_type": "execute_result"
    }
   ],
   "source": [
    "# dataframe with year 1998, poor, treatment data\n",
    "treat_df_98 = pd.DataFrame(data=progresa, columns=['year', 'sc', 'poor', 'progresa'])\n",
    "treat_df_98 = treat_df_98[treat_df_98.year !=97]\n",
    "treat_df_98 = treat_df_98[treat_df_98.poor != \"no pobre\"]\n",
    "treat_df_98 = treat_df_98[treat_df_98.progresa != \"0\"]\n",
    "\n",
    "# rate of enrollment for year 1998, poor, treatment data\n",
    "roe_98 = treat_df_98['sc']\n",
    "\n",
    "# dataframe with year 1998, poor, control data\n",
    "no_treat_df_98 = pd.DataFrame(data=progresa, columns=['year', 'sc', 'poor', 'progresa'])\n",
    "no_treat_df_98 = no_treat_df_98[no_treat_df_98.year !=97]\n",
    "no_treat_df_98 = no_treat_df_98[no_treat_df_98.poor != \"no pobre\"]\n",
    "no_treat_df_98 = no_treat_df_98[no_treat_df_98.progresa != \"basal\"]\n",
    "\n",
    "# rate of enrollment for year 1998, poor, control data\n",
    "no_treat_roe_98 = no_treat_df_98['sc']\n",
    "\n",
    "p = ttest_ind(roe_98, no_treat_roe_98, nan_policy=\"omit\")\n",
    "p"
   ]
  },
  {
   "cell_type": "markdown",
   "metadata": {
    "ein.tags": [
     "worksheet-0"
    ],
    "slideshow": {
     "slide_type": "-"
    }
   },
   "source": [
    "The p-value is 6.63634e-17 which is extremely small, less than .05. With such a low p-value this means the results between treatment and enrollment are statistically significant."
   ]
  },
  {
   "cell_type": "markdown",
   "metadata": {
    "ein.tags": [
     "worksheet-0"
    ],
    "slideshow": {
     "slide_type": "-"
    }
   },
   "source": [
    "### 2.2 Simple differences: Regression\n",
    "\n",
    "Estimate the effects of Progresa on enrollment using a regression model, by regressing the 1998 enrollment rates **of the poor** on treatment assignment. Discuss the following:\n",
    "\n",
    "* Based on this model, how much did Progresa increase the likelihood of a child enrolling?\n",
    "* How does your regression estimate compare to your t-test estimate from part 2.1?\n",
    "* Based on this regression model, can we reject the null hypothesis that the treatment effects are zero? \n",
    "* What is the counterfactual assumption underlying this regression?"
   ]
  },
  {
   "cell_type": "code",
   "execution_count": 7,
   "metadata": {
    "autoscroll": "json-false",
    "collapsed": false,
    "ein.tags": [
     "worksheet-0"
    ],
    "slideshow": {
     "slide_type": "-"
    }
   },
   "outputs": [
    {
     "data": {
      "text/html": [
       "<table class=\"simpletable\">\n",
       "<caption>OLS Regression Results</caption>\n",
       "<tr>\n",
       "  <th>Dep. Variable:</th>           <td>sc</td>        <th>  R-squared:         </th> <td>   0.003</td> \n",
       "</tr>\n",
       "<tr>\n",
       "  <th>Model:</th>                   <td>OLS</td>       <th>  Adj. R-squared:    </th> <td>   0.003</td> \n",
       "</tr>\n",
       "<tr>\n",
       "  <th>Method:</th>             <td>Least Squares</td>  <th>  F-statistic:       </th> <td>   69.87</td> \n",
       "</tr>\n",
       "<tr>\n",
       "  <th>Date:</th>             <td>Wed, 26 Apr 2017</td> <th>  Prob (F-statistic):</th> <td>6.64e-17</td> \n",
       "</tr>\n",
       "<tr>\n",
       "  <th>Time:</th>                 <td>14:41:03</td>     <th>  Log-Likelihood:    </th> <td> -11926.</td> \n",
       "</tr>\n",
       "<tr>\n",
       "  <th>No. Observations:</th>      <td> 27450</td>      <th>  AIC:               </th> <td>2.386e+04</td>\n",
       "</tr>\n",
       "<tr>\n",
       "  <th>Df Residuals:</th>          <td> 27448</td>      <th>  BIC:               </th> <td>2.387e+04</td>\n",
       "</tr>\n",
       "<tr>\n",
       "  <th>Df Model:</th>              <td>     1</td>      <th>                     </th>     <td> </td>    \n",
       "</tr>\n",
       "<tr>\n",
       "  <th>Covariance Type:</th>      <td>nonrobust</td>    <th>                     </th>     <td> </td>    \n",
       "</tr>\n",
       "</table>\n",
       "<table class=\"simpletable\">\n",
       "<tr>\n",
       "      <td></td>         <th>coef</th>     <th>std err</th>      <th>t</th>      <th>P>|t|</th> <th>[95.0% Conf. Int.]</th> \n",
       "</tr>\n",
       "<tr>\n",
       "  <th>Intercept</th> <td>    0.8076</td> <td>    0.004</td> <td>  220.676</td> <td> 0.000</td> <td>    0.800     0.815</td>\n",
       "</tr>\n",
       "<tr>\n",
       "  <th>progresa</th>  <td>    0.0388</td> <td>    0.005</td> <td>    8.359</td> <td> 0.000</td> <td>    0.030     0.048</td>\n",
       "</tr>\n",
       "</table>\n",
       "<table class=\"simpletable\">\n",
       "<tr>\n",
       "  <th>Omnibus:</th>       <td>7638.939</td> <th>  Durbin-Watson:     </th> <td>   1.734</td> \n",
       "</tr>\n",
       "<tr>\n",
       "  <th>Prob(Omnibus):</th>  <td> 0.000</td>  <th>  Jarque-Bera (JB):  </th> <td>15767.534</td>\n",
       "</tr>\n",
       "<tr>\n",
       "  <th>Skew:</th>           <td>-1.767</td>  <th>  Prob(JB):          </th> <td>    0.00</td> \n",
       "</tr>\n",
       "<tr>\n",
       "  <th>Kurtosis:</th>       <td> 4.140</td>  <th>  Cond. No.          </th> <td>    3.01</td> \n",
       "</tr>\n",
       "</table>"
      ],
      "text/plain": [
       "<class 'statsmodels.iolib.summary.Summary'>\n",
       "\"\"\"\n",
       "                            OLS Regression Results                            \n",
       "==============================================================================\n",
       "Dep. Variable:                     sc   R-squared:                       0.003\n",
       "Model:                            OLS   Adj. R-squared:                  0.003\n",
       "Method:                 Least Squares   F-statistic:                     69.87\n",
       "Date:                Wed, 26 Apr 2017   Prob (F-statistic):           6.64e-17\n",
       "Time:                        14:41:03   Log-Likelihood:                -11926.\n",
       "No. Observations:               27450   AIC:                         2.386e+04\n",
       "Df Residuals:                   27448   BIC:                         2.387e+04\n",
       "Df Model:                           1                                         \n",
       "Covariance Type:            nonrobust                                         \n",
       "==============================================================================\n",
       "                 coef    std err          t      P>|t|      [95.0% Conf. Int.]\n",
       "------------------------------------------------------------------------------\n",
       "Intercept      0.8076      0.004    220.676      0.000         0.800     0.815\n",
       "progresa       0.0388      0.005      8.359      0.000         0.030     0.048\n",
       "==============================================================================\n",
       "Omnibus:                     7638.939   Durbin-Watson:                   1.734\n",
       "Prob(Omnibus):                  0.000   Jarque-Bera (JB):            15767.534\n",
       "Skew:                          -1.767   Prob(JB):                         0.00\n",
       "Kurtosis:                       4.140   Cond. No.                         3.01\n",
       "==============================================================================\n",
       "\n",
       "Warnings:\n",
       "[1] Standard Errors assume that the covariance matrix of the errors is correctly specified.\n",
       "\"\"\""
      ]
     },
     "execution_count": 7,
     "metadata": {},
     "output_type": "execute_result"
    }
   ],
   "source": [
    "from sklearn import linear_model as ln\n",
    "\n",
    "# dataframe with year 1998, poor data\n",
    "data_df_98 = pd.DataFrame(data=progresa, columns=['year', 'sc', 'poor', 'progresa'])\n",
    "data_df_98 = data_df_98[data_df_98.year !=97]\n",
    "data_df_98 = data_df_98[data_df_98.poor != \"no pobre\"]\n",
    "\n",
    "# # convert treatment to binary\n",
    "data_df_98['progresa'] = data_df_98.progresa.apply(lambda x: 1 if x == \"basal\" else 0)\n",
    "\n",
    "data_df_98 = data_df_98.dropna(axis=0)\n",
    "\n",
    "m = sm.formula.ols(formula=\"sc ~ progresa\", data=data_df_98).fit()\n",
    "m.summary()"
   ]
  },
  {
   "cell_type": "markdown",
   "metadata": {
    "ein.tags": [
     "worksheet-0"
    ],
    "slideshow": {
     "slide_type": "-"
    }
   },
   "source": [
    "1. Based on the model, there is about a 4% increase in the likelihood of a child enrolling.\n",
    "2. Compared to the t-test estimate from 2.1, the regression estimate is very close to the t-test estimate from 2.1. In 2.1, the p-value was 6.636344447378055e-17 which is very close to 0, the p-value for the progresa.\n",
    "3. With a coefficient of .0388 we can reject the null hypothesis that the treatment effects are 0. .0388 > 0 and is not equal to 0, therefore rejecting the null hypothesis and in favor of the alternate hypothesis.\n",
    "4. The counterfactual assumption is that there were differences between some of the variables to begin with."
   ]
  },
  {
   "cell_type": "markdown",
   "metadata": {
    "ein.tags": [
     "worksheet-0"
    ],
    "slideshow": {
     "slide_type": "-"
    }
   },
   "source": [
    "### 2.3 Multiple Regression\n",
    "\n",
    "Re-run the above regression estimated but this time include a set of control variables. Include, for instance, age, distance to a secondary school, gender, education of household head, welfare index, indigenous, etc.\n",
    "\n",
    "* How do the controls affect the point estimate of treatment effect?\n",
    "* How do the controls affect the standard error on the treatment effect? \n",
    "* How do you interpret the differences (or similarities) between your estimates of 2.2 and 2.3?"
   ]
  },
  {
   "cell_type": "code",
   "execution_count": 8,
   "metadata": {
    "autoscroll": "json-false",
    "collapsed": false,
    "ein.tags": [
     "worksheet-0"
    ],
    "slideshow": {
     "slide_type": "-"
    }
   },
   "outputs": [
    {
     "data": {
      "text/html": [
       "<table class=\"simpletable\">\n",
       "<caption>OLS Regression Results</caption>\n",
       "<tr>\n",
       "  <th>Dep. Variable:</th>           <td>sc</td>        <th>  R-squared:         </th> <td>   0.276</td> \n",
       "</tr>\n",
       "<tr>\n",
       "  <th>Model:</th>                   <td>OLS</td>       <th>  Adj. R-squared:    </th> <td>   0.276</td> \n",
       "</tr>\n",
       "<tr>\n",
       "  <th>Method:</th>             <td>Least Squares</td>  <th>  F-statistic:       </th> <td>   3722.</td> \n",
       "</tr>\n",
       "<tr>\n",
       "  <th>Date:</th>             <td>Wed, 26 Apr 2017</td> <th>  Prob (F-statistic):</th>  <td>  0.00</td>  \n",
       "</tr>\n",
       "<tr>\n",
       "  <th>Time:</th>                 <td>14:47:35</td>     <th>  Log-Likelihood:    </th> <td> -20571.</td> \n",
       "</tr>\n",
       "<tr>\n",
       "  <th>No. Observations:</th>      <td> 68347</td>      <th>  AIC:               </th> <td>4.116e+04</td>\n",
       "</tr>\n",
       "<tr>\n",
       "  <th>Df Residuals:</th>          <td> 68339</td>      <th>  BIC:               </th> <td>4.123e+04</td>\n",
       "</tr>\n",
       "<tr>\n",
       "  <th>Df Model:</th>              <td>     7</td>      <th>                     </th>     <td> </td>    \n",
       "</tr>\n",
       "<tr>\n",
       "  <th>Covariance Type:</th>      <td>nonrobust</td>    <th>                     </th>     <td> </td>    \n",
       "</tr>\n",
       "</table>\n",
       "<table class=\"simpletable\">\n",
       "<tr>\n",
       "          <td></td>             <th>coef</th>     <th>std err</th>      <th>t</th>      <th>P>|t|</th> <th>[95.0% Conf. Int.]</th> \n",
       "</tr>\n",
       "<tr>\n",
       "  <th>Intercept</th>         <td>    1.4704</td> <td>    0.008</td> <td>  178.625</td> <td> 0.000</td> <td>    1.454     1.487</td>\n",
       "</tr>\n",
       "<tr>\n",
       "  <th>progresa[T.basal]</th> <td>    0.0202</td> <td>    0.003</td> <td>    7.834</td> <td> 0.000</td> <td>    0.015     0.025</td>\n",
       "</tr>\n",
       "<tr>\n",
       "  <th>age</th>               <td>   -0.0653</td> <td>    0.000</td> <td> -154.329</td> <td> 0.000</td> <td>   -0.066    -0.064</td>\n",
       "</tr>\n",
       "<tr>\n",
       "  <th>dist_sec</th>          <td>   -0.0112</td> <td>    0.001</td> <td>  -19.127</td> <td> 0.000</td> <td>   -0.012    -0.010</td>\n",
       "</tr>\n",
       "<tr>\n",
       "  <th>sex</th>               <td>    0.0331</td> <td>    0.003</td> <td>   13.210</td> <td> 0.000</td> <td>    0.028     0.038</td>\n",
       "</tr>\n",
       "<tr>\n",
       "  <th>hohedu</th>            <td>    0.0081</td> <td>    0.000</td> <td>   16.805</td> <td> 0.000</td> <td>    0.007     0.009</td>\n",
       "</tr>\n",
       "<tr>\n",
       "  <th>welfare_index</th>     <td> 5.219e-05</td> <td> 9.28e-06</td> <td>    5.623</td> <td> 0.000</td> <td>  3.4e-05  7.04e-05</td>\n",
       "</tr>\n",
       "<tr>\n",
       "  <th>indig</th>             <td>    0.0494</td> <td>    0.003</td> <td>   17.837</td> <td> 0.000</td> <td>    0.044     0.055</td>\n",
       "</tr>\n",
       "</table>\n",
       "<table class=\"simpletable\">\n",
       "<tr>\n",
       "  <th>Omnibus:</th>       <td>6142.422</td> <th>  Durbin-Watson:     </th> <td>   1.493</td>\n",
       "</tr>\n",
       "<tr>\n",
       "  <th>Prob(Omnibus):</th>  <td> 0.000</td>  <th>  Jarque-Bera (JB):  </th> <td>7984.754</td>\n",
       "</tr>\n",
       "<tr>\n",
       "  <th>Skew:</th>           <td>-0.837</td>  <th>  Prob(JB):          </th> <td>    0.00</td>\n",
       "</tr>\n",
       "<tr>\n",
       "  <th>Kurtosis:</th>       <td> 2.990</td>  <th>  Cond. No.          </th> <td>4.66e+03</td>\n",
       "</tr>\n",
       "</table>"
      ],
      "text/plain": [
       "<class 'statsmodels.iolib.summary.Summary'>\n",
       "\"\"\"\n",
       "                            OLS Regression Results                            \n",
       "==============================================================================\n",
       "Dep. Variable:                     sc   R-squared:                       0.276\n",
       "Model:                            OLS   Adj. R-squared:                  0.276\n",
       "Method:                 Least Squares   F-statistic:                     3722.\n",
       "Date:                Wed, 26 Apr 2017   Prob (F-statistic):               0.00\n",
       "Time:                        14:47:35   Log-Likelihood:                -20571.\n",
       "No. Observations:               68347   AIC:                         4.116e+04\n",
       "Df Residuals:                   68339   BIC:                         4.123e+04\n",
       "Df Model:                           7                                         \n",
       "Covariance Type:            nonrobust                                         \n",
       "=====================================================================================\n",
       "                        coef    std err          t      P>|t|      [95.0% Conf. Int.]\n",
       "-------------------------------------------------------------------------------------\n",
       "Intercept             1.4704      0.008    178.625      0.000         1.454     1.487\n",
       "progresa[T.basal]     0.0202      0.003      7.834      0.000         0.015     0.025\n",
       "age                  -0.0653      0.000   -154.329      0.000        -0.066    -0.064\n",
       "dist_sec             -0.0112      0.001    -19.127      0.000        -0.012    -0.010\n",
       "sex                   0.0331      0.003     13.210      0.000         0.028     0.038\n",
       "hohedu                0.0081      0.000     16.805      0.000         0.007     0.009\n",
       "welfare_index      5.219e-05   9.28e-06      5.623      0.000       3.4e-05  7.04e-05\n",
       "indig                 0.0494      0.003     17.837      0.000         0.044     0.055\n",
       "==============================================================================\n",
       "Omnibus:                     6142.422   Durbin-Watson:                   1.493\n",
       "Prob(Omnibus):                  0.000   Jarque-Bera (JB):             7984.754\n",
       "Skew:                          -0.837   Prob(JB):                         0.00\n",
       "Kurtosis:                       2.990   Cond. No.                     4.66e+03\n",
       "==============================================================================\n",
       "\n",
       "Warnings:\n",
       "[1] Standard Errors assume that the covariance matrix of the errors is correctly specified.\n",
       "[2] The condition number is large, 4.66e+03. This might indicate that there are\n",
       "strong multicollinearity or other numerical problems.\n",
       "\"\"\""
      ]
     },
     "execution_count": 8,
     "metadata": {},
     "output_type": "execute_result"
    }
   ],
   "source": [
    "m = sm.formula.ols(formula=\"sc ~ age + dist_sec + sex + hohedu + welfare_index + indig + progresa\", data=progresa).fit()\n",
    "m.summary()"
   ]
  },
  {
   "cell_type": "markdown",
   "metadata": {
    "ein.tags": [
     "worksheet-0"
    ],
    "slideshow": {
     "slide_type": "-"
    }
   },
   "source": [
    "1. The controls affect the point estimate of treatment effect by .0202.\n",
    "2. The controls affect the standard error on the treatment effect by .003.\n",
    "3. The progresa coefficients and standard error in 2.2 and 2.3 are fairly low, showing that while the models are measuring fairly accurately, there is a weak relationship."
   ]
  },
  {
   "cell_type": "markdown",
   "metadata": {
    "ein.tags": [
     "worksheet-0"
    ],
    "slideshow": {
     "slide_type": "-"
    }
   },
   "source": [
    "### 2.4 Difference-in-Difference, version 1 (tabular)\n",
    "\n",
    "Thus far, we have computed the effects of Progresa by estimating the difference in 1998 enrollment rates across villages. An alternative approach would be to compute the treatment effect using a difference-in-differences framework.\n",
    "\n",
    "Begin by estimating the average treatment effects of the program for poor households using data from 1997 and 1998. Specifically, calculate:\n",
    "a) the difference (between 1997 and 1998) in enrollment rates among poor households in treated villages\n",
    "b) the difference (between 1997 and 1998) in enrollment rates among poor households in control villages.\n",
    "c) The difference between these two differences is your estimate.\n",
    "\n",
    "* What is your estimate of the impact, and how does it compare to your earlier (simple difference) results?\n",
    "* What is the counterfactual assumption underlying this estimate? \n"
   ]
  },
  {
   "cell_type": "code",
   "execution_count": 9,
   "metadata": {
    "autoscroll": "json-false",
    "collapsed": false,
    "ein.tags": [
     "worksheet-0"
    ],
    "slideshow": {
     "slide_type": "-"
    }
   },
   "outputs": [
    {
     "data": {
      "text/plain": [
       "0.031331280319323085"
      ]
     },
     "execution_count": 9,
     "metadata": {},
     "output_type": "execute_result"
    }
   ],
   "source": [
    "# dataframe with year 1997, poor, treatment\n",
    "treat_df_97 = pd.DataFrame(data=progresa, columns=['year', 'sc', 'poor', 'progresa'])\n",
    "treat_df_97 = treat_df_97[treat_df_97.year !=98]\n",
    "treat_df_97 = treat_df_97[treat_df_97.poor != \"no pobre\"]\n",
    "treat_df_97 = treat_df_97[treat_df_97.progresa != \"0\"]\n",
    "\n",
    "# average rate of enrollment for year 1997, poor, treatment\n",
    "avg_roe_97 = treat_df_97.mean()['sc']\n",
    "\n",
    "# dataframe with year 1998, poor, treatment\n",
    "treat_df_98 = pd.DataFrame(data=progresa, columns=['year', 'sc', 'poor', 'progresa'])\n",
    "treat_df_98 = treat_df_98[treat_df_98.year !=97]\n",
    "treat_df_98 = treat_df_98[treat_df_98.poor != \"no pobre\"]\n",
    "treat_df_98 = treat_df_98[treat_df_98.progresa != \"0\"]\n",
    "\n",
    "# average rate of enrollment for year 1998, poor, treatment\n",
    "avg_roe_98 = treat_df_98.mean()['sc']\n",
    "\n",
    "# difference between the treatment averages\n",
    "treat_dif = avg_roe_98-avg_roe_97\n",
    "\n",
    "# dataframe with year 1997, poor, control\n",
    "no_treat_df_97 = pd.DataFrame(data=progresa, columns=['year', 'sc', 'poor', 'progresa'])\n",
    "no_treat_df_97 = no_treat_df_97[no_treat_df_97.year !=98]\n",
    "no_treat_df_97 = no_treat_df_97[no_treat_df_97.poor != \"no pobre\"]\n",
    "no_treat_df_97 = no_treat_df_97[no_treat_df_97.progresa != \"basal\"]\n",
    "\n",
    "avg_no_treat_roe_97 = no_treat_df_97.mean()['sc']\n",
    "\n",
    "# dataframe with year 1998, poor, control\n",
    "no_treat_df_98 = pd.DataFrame(data=progresa, columns=['year', 'sc', 'poor', 'progresa'])\n",
    "no_treat_df_98 = no_treat_df_98[no_treat_df_98.year !=97]\n",
    "no_treat_df_98 = no_treat_df_98[no_treat_df_98.poor != \"no pobre\"]\n",
    "no_treat_df_98 = no_treat_df_98[no_treat_df_98.progresa != \"basal\"]\n",
    "\n",
    "avg_no_treat_roe_98 = no_treat_df_98.mean()['sc']\n",
    "\n",
    "# difference between the control averages\n",
    "control_dif = avg_no_treat_roe_98-avg_no_treat_roe_97\n",
    "\n",
    "# difference in difference\n",
    "main_dif = treat_dif-control_dif\n",
    "main_dif"
   ]
  },
  {
   "cell_type": "markdown",
   "metadata": {
    "ein.tags": [
     "worksheet-0"
    ],
    "slideshow": {
     "slide_type": "-"
    }
   },
   "source": [
    "The estimate of impact is .03133 which is similar to the coefficient found in 2.2 for the relationship between Progresa and enrollment rates of the poor, treated villages (.0388). The counterfactual assumption is that the control and treatment group would be the same before treatment in 1997."
   ]
  },
  {
   "cell_type": "markdown",
   "metadata": {
    "ein.tags": [
     "worksheet-0"
    ],
    "slideshow": {
     "slide_type": "-"
    }
   },
   "source": [
    "### 2.5 Difference-in-Difference, version 2 (regression)\n",
    "\n",
    "Now use a regression specification to estimate the average treatment effects of the program in a difference-in-differences framework. Include at least 5 control variables.\n",
    "\n",
    "* What is your estimate of the impact of Progresa? Be very specific in interpreting your coefficients and standard errors, and make sure to specify exactly what units you are measuring and estimating.\n",
    "* How do these estimates of the treatment effect compare to the estimates based on the simple difference?\n",
    "* How do these estimates compare to the difference-in-difference estimates from 2.4 above? What accounts for these differences?\n",
    "* What is the counterfactual assumption underlying this regression? "
   ]
  },
  {
   "cell_type": "code",
   "execution_count": 10,
   "metadata": {
    "autoscroll": "json-false",
    "collapsed": false,
    "ein.tags": [
     "worksheet-0"
    ],
    "slideshow": {
     "slide_type": "-"
    }
   },
   "outputs": [
    {
     "data": {
      "text/html": [
       "<table class=\"simpletable\">\n",
       "<caption>OLS Regression Results</caption>\n",
       "<tr>\n",
       "  <th>Dep. Variable:</th>           <td>sc</td>        <th>  R-squared:         </th> <td>   0.280</td> \n",
       "</tr>\n",
       "<tr>\n",
       "  <th>Model:</th>                   <td>OLS</td>       <th>  Adj. R-squared:    </th> <td>   0.280</td> \n",
       "</tr>\n",
       "<tr>\n",
       "  <th>Method:</th>             <td>Least Squares</td>  <th>  F-statistic:       </th> <td>   2949.</td> \n",
       "</tr>\n",
       "<tr>\n",
       "  <th>Date:</th>             <td>Wed, 26 Apr 2017</td> <th>  Prob (F-statistic):</th>  <td>  0.00</td>  \n",
       "</tr>\n",
       "<tr>\n",
       "  <th>Time:</th>                 <td>14:57:34</td>     <th>  Log-Likelihood:    </th> <td> -20393.</td> \n",
       "</tr>\n",
       "<tr>\n",
       "  <th>No. Observations:</th>      <td> 68347</td>      <th>  AIC:               </th> <td>4.081e+04</td>\n",
       "</tr>\n",
       "<tr>\n",
       "  <th>Df Residuals:</th>          <td> 68337</td>      <th>  BIC:               </th> <td>4.090e+04</td>\n",
       "</tr>\n",
       "<tr>\n",
       "  <th>Df Model:</th>              <td>     9</td>      <th>                     </th>     <td> </td>    \n",
       "</tr>\n",
       "<tr>\n",
       "  <th>Covariance Type:</th>      <td>nonrobust</td>    <th>                     </th>     <td> </td>    \n",
       "</tr>\n",
       "</table>\n",
       "<table class=\"simpletable\">\n",
       "<tr>\n",
       "             <td></td>               <th>coef</th>     <th>std err</th>      <th>t</th>      <th>P>|t|</th> <th>[95.0% Conf. Int.]</th> \n",
       "</tr>\n",
       "<tr>\n",
       "  <th>Intercept</th>              <td>   -1.4162</td> <td>    0.395</td> <td>   -3.585</td> <td> 0.000</td> <td>   -2.191    -0.642</td>\n",
       "</tr>\n",
       "<tr>\n",
       "  <th>progresa[T.basal]</th>      <td>   -2.5099</td> <td>    0.502</td> <td>   -5.003</td> <td> 0.000</td> <td>   -3.493    -1.527</td>\n",
       "</tr>\n",
       "<tr>\n",
       "  <th>year</th>                   <td>    0.0297</td> <td>    0.004</td> <td>    7.315</td> <td> 0.000</td> <td>    0.022     0.038</td>\n",
       "</tr>\n",
       "<tr>\n",
       "  <th>year:progresa[T.basal]</th> <td>    0.0260</td> <td>    0.005</td> <td>    5.043</td> <td> 0.000</td> <td>    0.016     0.036</td>\n",
       "</tr>\n",
       "<tr>\n",
       "  <th>age</th>                    <td>   -0.0660</td> <td>    0.000</td> <td> -155.728</td> <td> 0.000</td> <td>   -0.067    -0.065</td>\n",
       "</tr>\n",
       "<tr>\n",
       "  <th>dist_sec</th>               <td>   -0.0113</td> <td>    0.001</td> <td>  -19.287</td> <td> 0.000</td> <td>   -0.012    -0.010</td>\n",
       "</tr>\n",
       "<tr>\n",
       "  <th>sex</th>                    <td>    0.0331</td> <td>    0.002</td> <td>   13.270</td> <td> 0.000</td> <td>    0.028     0.038</td>\n",
       "</tr>\n",
       "<tr>\n",
       "  <th>hohedu</th>                 <td>    0.0079</td> <td>    0.000</td> <td>   16.567</td> <td> 0.000</td> <td>    0.007     0.009</td>\n",
       "</tr>\n",
       "<tr>\n",
       "  <th>welfare_index</th>          <td> 5.811e-05</td> <td> 9.26e-06</td> <td>    6.273</td> <td> 0.000</td> <td>    4e-05  7.63e-05</td>\n",
       "</tr>\n",
       "<tr>\n",
       "  <th>indig</th>                  <td>    0.0491</td> <td>    0.003</td> <td>   17.789</td> <td> 0.000</td> <td>    0.044     0.055</td>\n",
       "</tr>\n",
       "</table>\n",
       "<table class=\"simpletable\">\n",
       "<tr>\n",
       "  <th>Omnibus:</th>       <td>6009.585</td> <th>  Durbin-Watson:     </th> <td>   1.488</td>\n",
       "</tr>\n",
       "<tr>\n",
       "  <th>Prob(Omnibus):</th>  <td> 0.000</td>  <th>  Jarque-Bera (JB):  </th> <td>7769.063</td>\n",
       "</tr>\n",
       "<tr>\n",
       "  <th>Skew:</th>           <td>-0.826</td>  <th>  Prob(JB):          </th> <td>    0.00</td>\n",
       "</tr>\n",
       "<tr>\n",
       "  <th>Kurtosis:</th>       <td> 2.995</td>  <th>  Cond. No.          </th> <td>3.46e+05</td>\n",
       "</tr>\n",
       "</table>"
      ],
      "text/plain": [
       "<class 'statsmodels.iolib.summary.Summary'>\n",
       "\"\"\"\n",
       "                            OLS Regression Results                            \n",
       "==============================================================================\n",
       "Dep. Variable:                     sc   R-squared:                       0.280\n",
       "Model:                            OLS   Adj. R-squared:                  0.280\n",
       "Method:                 Least Squares   F-statistic:                     2949.\n",
       "Date:                Wed, 26 Apr 2017   Prob (F-statistic):               0.00\n",
       "Time:                        14:57:34   Log-Likelihood:                -20393.\n",
       "No. Observations:               68347   AIC:                         4.081e+04\n",
       "Df Residuals:                   68337   BIC:                         4.090e+04\n",
       "Df Model:                           9                                         \n",
       "Covariance Type:            nonrobust                                         \n",
       "==========================================================================================\n",
       "                             coef    std err          t      P>|t|      [95.0% Conf. Int.]\n",
       "------------------------------------------------------------------------------------------\n",
       "Intercept                 -1.4162      0.395     -3.585      0.000        -2.191    -0.642\n",
       "progresa[T.basal]         -2.5099      0.502     -5.003      0.000        -3.493    -1.527\n",
       "year                       0.0297      0.004      7.315      0.000         0.022     0.038\n",
       "year:progresa[T.basal]     0.0260      0.005      5.043      0.000         0.016     0.036\n",
       "age                       -0.0660      0.000   -155.728      0.000        -0.067    -0.065\n",
       "dist_sec                  -0.0113      0.001    -19.287      0.000        -0.012    -0.010\n",
       "sex                        0.0331      0.002     13.270      0.000         0.028     0.038\n",
       "hohedu                     0.0079      0.000     16.567      0.000         0.007     0.009\n",
       "welfare_index           5.811e-05   9.26e-06      6.273      0.000         4e-05  7.63e-05\n",
       "indig                      0.0491      0.003     17.789      0.000         0.044     0.055\n",
       "==============================================================================\n",
       "Omnibus:                     6009.585   Durbin-Watson:                   1.488\n",
       "Prob(Omnibus):                  0.000   Jarque-Bera (JB):             7769.063\n",
       "Skew:                          -0.826   Prob(JB):                         0.00\n",
       "Kurtosis:                       2.995   Cond. No.                     3.46e+05\n",
       "==============================================================================\n",
       "\n",
       "Warnings:\n",
       "[1] Standard Errors assume that the covariance matrix of the errors is correctly specified.\n",
       "[2] The condition number is large, 3.46e+05. This might indicate that there are\n",
       "strong multicollinearity or other numerical problems.\n",
       "\"\"\""
      ]
     },
     "execution_count": 10,
     "metadata": {},
     "output_type": "execute_result"
    }
   ],
   "source": [
    "mod = sm.formula.ols(formula=\"sc ~ progresa + year + year:progresa + age + dist_sec + sex + hohedu + welfare_index + indig\", data=progresa).fit()\n",
    "mod.summary()"
   ]
  },
  {
   "cell_type": "markdown",
   "metadata": {
    "ein.tags": [
     "worksheet-0"
    ],
    "slideshow": {
     "slide_type": "-"
    }
   },
   "source": [
    "1. My estimate of the impact of Progresa is .0260, meaning that there is about a 3% increase in enrollment. I focused on the interaction number of Progresa because this shows the interaction between the year and treatment.\n",
    "2. Based on the simple difference, these estimates are still very close to the values in 2.2.\n",
    "3. Compared to 2.4, the coefficient for year:progesa (.0260) is very close to the value found in 2.4 (.0313). Including more variables in the statistical test accounts for the differences. 2.5 allows for control variables such as age, sex, indig, etc. while 2.4 includes only year, sc, poor, and progresa.\n",
    "4. The counterfactual assumption underlying this regression is that there were differences between some of the variables to begin with in the baseline."
   ]
  },
  {
   "cell_type": "markdown",
   "metadata": {
    "ein.tags": [
     "worksheet-0"
    ],
    "slideshow": {
     "slide_type": "-"
    }
   },
   "source": [
    "### 2.6 Summary\n",
    "\n",
    "* Based on all the analysis you have undertaken to date, do you believe that Progresa had a causal impact on the enrollment rates of poor households in Mexico? \n",
    "* Describe one other way that you might analyze these data to further investigate the causal impact of Progresa on enrollment, and clearly state the counterfactual assumption you would need to make for that approach to be valid.  *(Hint: Consider using the non-poor in your analysis)*"
   ]
  },
  {
   "cell_type": "markdown",
   "metadata": {
    "ein.tags": [
     "worksheet-0"
    ],
    "slideshow": {
     "slide_type": "-"
    }
   },
   "source": [
    "A. Based on the analysis, I don't think Progresa had a causal impact on the enrollment rates of poor households in Mexico. In the end enrollment increased by about 3% which is fairly low. In addition, when we look back at the baseline characteristics in the beginning, some of the variables were different to begin with, which would not lead to a fair comparison.\n",
    "\n",
    "B. Another way I might analyze the data to further investigate the causal impact of Progesa on enrollment is by doing the same exact statistical analysis on non-poor villages. It would be important to see if similar differences were found from the baseline level and see how those differences influence the results. You could also throw out the variables that were not statistically significant and use different variables instead to potentially increase the statistical significance of the differences between the variables. The counterfactual assumption I would need to make for this approach to be valid is also have there be differences between the variables from the baseline level. That way, if the differences exist for the non-poor villages too, that might give more credibility for the treatment having impact on the villages."
   ]
  },
  {
   "cell_type": "code",
   "execution_count": null,
   "metadata": {
    "collapsed": true
   },
   "outputs": [],
   "source": []
  }
 ],
 "metadata": {
  "anaconda-cloud": {},
  "kernelspec": {
   "display_name": "Python [default]",
   "language": "python",
   "name": "python3"
  },
  "language_info": {
   "codemirror_mode": {
    "name": "ipython",
    "version": 3
   },
   "file_extension": ".py",
   "mimetype": "text/x-python",
   "name": "python",
   "nbconvert_exporter": "python",
   "pygments_lexer": "ipython3",
   "version": "3.5.2"
  },
  "name": "INFO371-PS2.ipynb"
 },
 "nbformat": 4,
 "nbformat_minor": 0
}
