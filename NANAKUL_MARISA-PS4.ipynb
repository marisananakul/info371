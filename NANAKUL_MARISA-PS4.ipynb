{
 "cells": [
  {
   "cell_type": "markdown",
   "metadata": {
    "ein.tags": [
     "worksheet-0"
    ],
    "slideshow": {
     "slide_type": "-"
    }
   },
   "source": [
    "# INFO371: Problem Set 4, due May 22 at 3:30pm.\n",
    "\n",
    "### Before You Start\n",
    "\n",
    "This is a fun but challenging problem set. It will test your python skills, as well as your understanding of the material in class and in the readings. Start early and debug often! Some notes:\n",
    "\n",
    "* Part 1 is meant to be easy, so get through it quickly.\n",
    "* Part 2 (especially 2.1) will be difficult, but it is the lynchpin of\n",
    "  this problem set to make sure to do it well and understand what\n",
    "  you've done. If you find your gradient descent algorithm is taking\n",
    "  more than a few minutes to complete (it takes ~15s for me), debug more, compare notes with others, and go to the TA sessions.\n",
    "* Depending on how well you've done 2.1, parts 2.3 and 3.3 will be relatively painless or incredibly painful. \n",
    "* Part 3 and 4 (especially 4.3) will be computationally intensive. Don't leave this until the last minute, otherwise your code might be running when the deadline arrives.\n",
    "* Do the extra credit problems last."
   ]
  },
  {
   "cell_type": "markdown",
   "metadata": {
    "ein.tags": [
     "worksheet-0"
    ],
    "slideshow": {
     "slide_type": "-"
    }
   },
   "source": [
    "---\n",
    "\n",
    "## Introduction to the assignment\n",
    "\n",
    "As with the last assignment, you will be using the [Boston Housing Prices Data Set](http://archive.ics.uci.edu/ml/datasets/Housing)."
   ]
  },
  {
   "cell_type": "code",
   "execution_count": 1,
   "metadata": {
    "autoscroll": "json-false",
    "collapsed": false,
    "ein.tags": [
     "worksheet-0"
    ],
    "slideshow": {
     "slide_type": "-"
    }
   },
   "outputs": [],
   "source": [
    "import IPython\n",
    "import numpy as np\n",
    "import scipy as sp\n",
    "import pandas as pd\n",
    "\n",
    "import matplotlib.pyplot as plt  \n",
    "%matplotlib inline  \n",
    "\n",
    "import statsmodels.api as sm\n",
    "import statsmodels.formula.api as smf\n",
    "\n",
    "import sklearn.linear_model as lm\n",
    "from sklearn.metrics import mean_squared_error\n",
    "from sklearn import model_selection\n",
    "# use cross_validation for earlier versions of sklearn\n",
    "from sklearn.model_selection import KFold\n"
   ]
  },
  {
   "cell_type": "code",
   "execution_count": 2,
   "metadata": {
    "autoscroll": "json-false",
    "collapsed": false,
    "ein.tags": [
     "worksheet-0"
    ],
    "slideshow": {
     "slide_type": "-"
    }
   },
   "outputs": [],
   "source": [
    "from sklearn.datasets import load_boston\n",
    "bdata = load_boston()"
   ]
  },
  {
   "cell_type": "markdown",
   "metadata": {
    "ein.tags": [
     "worksheet-0"
    ],
    "slideshow": {
     "slide_type": "-"
    }
   },
   "source": [
    "---\n",
    "\n",
    "## Part 1: Getting oriented\n",
    "\n",
    "Learn the existing libraries for OLS and cross validation.\n",
    "\n",
    "### 1.1 Use existing libraries\n",
    "\n",
    "Soon, you will write your own gradient descent algorithm, which you will then use to minimize the squared error cost function.  First, however, let's use the canned versions that come with Python, to make sure we understand what we're aiming to achieve.\n",
    "\n",
    "Using the same Boston housing prices dataset as we did for the\n",
    "previous PS, use linear regression from sklearn or SciPy to explore\n",
    "the relationship between  median housing price and number of rooms per\n",
    "house.  Do this by first (a) regressing the housing price on the number of rooms per house, and then (b) regressing the housing price on the number of rooms per house and the (number of rooms per house) squared.  **Interpret your results.**"
   ]
  },
  {
   "cell_type": "code",
   "execution_count": 3,
   "metadata": {
    "autoscroll": "json-false",
    "collapsed": false,
    "ein.tags": [
     "worksheet-0"
    ],
    "slideshow": {
     "slide_type": "-"
    }
   },
   "outputs": [
    {
     "name": "stdout",
     "output_type": "stream",
     "text": [
      "                            OLS Regression Results                            \n",
      "==============================================================================\n",
      "Dep. Variable:                   MEDV   R-squared:                       0.484\n",
      "Model:                            OLS   Adj. R-squared:                  0.483\n",
      "Method:                 Least Squares   F-statistic:                     471.8\n",
      "Date:                Mon, 22 May 2017   Prob (F-statistic):           2.49e-74\n",
      "Time:                        14:04:11   Log-Likelihood:                -1673.1\n",
      "No. Observations:                 506   AIC:                             3350.\n",
      "Df Residuals:                     504   BIC:                             3359.\n",
      "Df Model:                           1                                         \n",
      "Covariance Type:            nonrobust                                         \n",
      "==============================================================================\n",
      "                 coef    std err          t      P>|t|      [95.0% Conf. Int.]\n",
      "------------------------------------------------------------------------------\n",
      "Intercept    -34.6706      2.650    -13.084      0.000       -39.877   -29.465\n",
      "RM             9.1021      0.419     21.722      0.000         8.279     9.925\n",
      "==============================================================================\n",
      "Omnibus:                      102.585   Durbin-Watson:                   0.684\n",
      "Prob(Omnibus):                  0.000   Jarque-Bera (JB):              612.449\n",
      "Skew:                           0.726   Prob(JB):                    1.02e-133\n",
      "Kurtosis:                       8.190   Cond. No.                         58.4\n",
      "==============================================================================\n",
      "\n",
      "Warnings:\n",
      "[1] Standard Errors assume that the covariance matrix of the errors is correctly specified.\n"
     ]
    },
    {
     "data": {
      "text/html": [
       "<table class=\"simpletable\">\n",
       "<caption>OLS Regression Results</caption>\n",
       "<tr>\n",
       "  <th>Dep. Variable:</th>          <td>MEDV</td>       <th>  R-squared:         </th> <td>   0.548</td>\n",
       "</tr>\n",
       "<tr>\n",
       "  <th>Model:</th>                   <td>OLS</td>       <th>  Adj. R-squared:    </th> <td>   0.547</td>\n",
       "</tr>\n",
       "<tr>\n",
       "  <th>Method:</th>             <td>Least Squares</td>  <th>  F-statistic:       </th> <td>   305.4</td>\n",
       "</tr>\n",
       "<tr>\n",
       "  <th>Date:</th>             <td>Mon, 22 May 2017</td> <th>  Prob (F-statistic):</th> <td>1.46e-87</td>\n",
       "</tr>\n",
       "<tr>\n",
       "  <th>Time:</th>                 <td>14:04:11</td>     <th>  Log-Likelihood:    </th> <td> -1639.1</td>\n",
       "</tr>\n",
       "<tr>\n",
       "  <th>No. Observations:</th>      <td>   506</td>      <th>  AIC:               </th> <td>   3284.</td>\n",
       "</tr>\n",
       "<tr>\n",
       "  <th>Df Residuals:</th>          <td>   503</td>      <th>  BIC:               </th> <td>   3297.</td>\n",
       "</tr>\n",
       "<tr>\n",
       "  <th>Df Model:</th>              <td>     2</td>      <th>                     </th>     <td> </td>   \n",
       "</tr>\n",
       "<tr>\n",
       "  <th>Covariance Type:</th>      <td>nonrobust</td>    <th>                     </th>     <td> </td>   \n",
       "</tr>\n",
       "</table>\n",
       "<table class=\"simpletable\">\n",
       "<tr>\n",
       "         <td></td>            <th>coef</th>     <th>std err</th>      <th>t</th>      <th>P>|t|</th> <th>[95.0% Conf. Int.]</th> \n",
       "</tr>\n",
       "<tr>\n",
       "  <th>Intercept</th>       <td>   66.0588</td> <td>   12.104</td> <td>    5.458</td> <td> 0.000</td> <td>   42.278    89.839</td>\n",
       "</tr>\n",
       "<tr>\n",
       "  <th>RM</th>              <td>  -22.6433</td> <td>    3.754</td> <td>   -6.031</td> <td> 0.000</td> <td>  -30.019   -15.267</td>\n",
       "</tr>\n",
       "<tr>\n",
       "  <th>np.power(RM, 2)</th> <td>    2.4701</td> <td>    0.291</td> <td>    8.502</td> <td> 0.000</td> <td>    1.899     3.041</td>\n",
       "</tr>\n",
       "</table>\n",
       "<table class=\"simpletable\">\n",
       "<tr>\n",
       "  <th>Omnibus:</th>       <td>82.173</td> <th>  Durbin-Watson:     </th> <td>   0.689</td> \n",
       "</tr>\n",
       "<tr>\n",
       "  <th>Prob(Omnibus):</th> <td> 0.000</td> <th>  Jarque-Bera (JB):  </th> <td> 934.337</td> \n",
       "</tr>\n",
       "<tr>\n",
       "  <th>Skew:</th>          <td> 0.224</td> <th>  Prob(JB):          </th> <td>1.29e-203</td>\n",
       "</tr>\n",
       "<tr>\n",
       "  <th>Kurtosis:</th>      <td> 9.642</td> <th>  Cond. No.          </th> <td>1.91e+03</td> \n",
       "</tr>\n",
       "</table>"
      ],
      "text/plain": [
       "<class 'statsmodels.iolib.summary.Summary'>\n",
       "\"\"\"\n",
       "                            OLS Regression Results                            \n",
       "==============================================================================\n",
       "Dep. Variable:                   MEDV   R-squared:                       0.548\n",
       "Model:                            OLS   Adj. R-squared:                  0.547\n",
       "Method:                 Least Squares   F-statistic:                     305.4\n",
       "Date:                Mon, 22 May 2017   Prob (F-statistic):           1.46e-87\n",
       "Time:                        14:04:11   Log-Likelihood:                -1639.1\n",
       "No. Observations:                 506   AIC:                             3284.\n",
       "Df Residuals:                     503   BIC:                             3297.\n",
       "Df Model:                           2                                         \n",
       "Covariance Type:            nonrobust                                         \n",
       "===================================================================================\n",
       "                      coef    std err          t      P>|t|      [95.0% Conf. Int.]\n",
       "-----------------------------------------------------------------------------------\n",
       "Intercept          66.0588     12.104      5.458      0.000        42.278    89.839\n",
       "RM                -22.6433      3.754     -6.031      0.000       -30.019   -15.267\n",
       "np.power(RM, 2)     2.4701      0.291      8.502      0.000         1.899     3.041\n",
       "==============================================================================\n",
       "Omnibus:                       82.173   Durbin-Watson:                   0.689\n",
       "Prob(Omnibus):                  0.000   Jarque-Bera (JB):              934.337\n",
       "Skew:                           0.224   Prob(JB):                    1.29e-203\n",
       "Kurtosis:                       9.642   Cond. No.                     1.91e+03\n",
       "==============================================================================\n",
       "\n",
       "Warnings:\n",
       "[1] Standard Errors assume that the covariance matrix of the errors is correctly specified.\n",
       "[2] The condition number is large, 1.91e+03. This might indicate that there are\n",
       "strong multicollinearity or other numerical problems.\n",
       "\"\"\""
      ]
     },
     "execution_count": 3,
     "metadata": {},
     "output_type": "execute_result"
    }
   ],
   "source": [
    "# your code\n",
    "boston = pd.DataFrame(bdata.data, columns = ['CRIM', 'ZN', 'INDUS', 'CHAS', 'NOX', 'RM', 'AGE', 'DIS', 'RAD', 'TAX', 'PTRATIO', 'B', 'LSTAT'])\n",
    "boston[\"MEDV\"] = bdata.target\n",
    "boston\n",
    "\n",
    "r = sm.formula.ols(formula='MEDV ~ RM', data=boston).fit()\n",
    "print(r.summary())\n",
    "\n",
    "r2 = sm.formula.ols(formula='MEDV ~ RM + (np.power(RM, 2))', data=boston).fit()\n",
    "r2.summary()"
   ]
  },
  {
   "cell_type": "markdown",
   "metadata": {
    "ein.tags": [
     "worksheet-0"
    ],
    "slideshow": {
     "slide_type": "-"
    }
   },
   "source": [
    "The r-squared value of the first regression is 0.484 and the r-squared value of the second regression is 0.548. Regressing on MEDV and RM alone shows that the model fits the data by about 48%. Regressing on MEDV, RM, and RM-squared shows that the model fits the data by about 54%. This slight increase may have to do with the fact that there are more variables inputted in the second regression."
   ]
  },
  {
   "cell_type": "markdown",
   "metadata": {
    "ein.tags": [
     "worksheet-0"
    ],
    "slideshow": {
     "slide_type": "-"
    }
   },
   "source": [
    "### 1.2 Training and testing\n",
    "\n",
    "Above, you probably used all of your data to fit the regression line. In some circumstances this is a reasonable thing to do, but often this will result in overfitting. Let's redo the above results the ML way, using careful cross-validation.  Since you are now experts in cross-validation, and have written your own cross-validation algorithm from scratch, you can now take a shortcut and use the libraries that others have built for you.\n",
    "\n",
    "Using the cross\\_validation (or model\\_selection) functions from\n",
    "scikit-learn, use k-fold cross-validation to fit regression (a) above,\n",
    "i.e. the linear fit of housing price on number of rooms per house.\n",
    "Use a large $k$ value, say, 100.  Each fold of cross-validation will give you one slope coefficient and one intercept coefficient.  Plot the distribution of the k slope coefficients, and draw a vertical line at the value of the slope coefficient that you estimated in 1.1 using the full dataset.  What do you observe?"
   ]
  },
  {
   "cell_type": "code",
   "execution_count": 4,
   "metadata": {
    "autoscroll": "json-false",
    "collapsed": false,
    "ein.tags": [
     "worksheet-0"
    ],
    "slideshow": {
     "slide_type": "-"
    }
   },
   "outputs": [
    {
     "data": {
      "text/plain": [
       "<matplotlib.text.Text at 0x113f25b38>"
      ]
     },
     "execution_count": 4,
     "metadata": {},
     "output_type": "execute_result"
    },
    {
     "data": {
      "image/png": "[encoded data removed]",
      "text/plain": [
       "<matplotlib.figure.Figure at 0x104b2e940>"
      ]
     },
     "metadata": {},
     "output_type": "display_data"
    }
   ],
   "source": [
    "kf = KFold(n_splits=100)\n",
    "RMSE = []\n",
    "\n",
    "for train, test in kf.split(boston):\n",
    "    X_train = boston.iloc[train]\n",
    "    X_test = boston.iloc[test]\n",
    "    reg = sm.formula.ols(formula='MEDV ~ RM', data=X_train).fit()\n",
    "    RMSE.append(reg.params.get('RM'))\n",
    "    \n",
    "plt.hist(RMSE)\n",
    "plt.xlabel(\"K slope coefficient values\")\n",
    "plt.ylabel(\"Quantity\")\n",
    "plt.title(\"K slope coefficient distributions for MEDV and RM\")"
   ]
  },
  {
   "cell_type": "markdown",
   "metadata": {
    "ein.tags": [
     "worksheet-0"
    ],
    "slideshow": {
     "slide_type": "-"
    }
   },
   "source": [
    "I see that the majority of the RMSE values fall between 9.0 and 9.1 which are relatively high."
   ]
  },
  {
   "cell_type": "markdown",
   "metadata": {
    "ein.tags": [
     "worksheet-0"
    ],
    "slideshow": {
     "slide_type": "-"
    }
   },
   "source": [
    "### 1.3 Regression lines\n",
    "\n",
    "Create a scatterplot of housing price on rooms per house, and add the\n",
    "two regression lines from 1.1 (or 1.2 if you prefer to do so). Show\n",
    "the linear regression line in red, and the linear + quadratic regression line (which may have curvature) in blue.  Label these two regression lines with the corresponding regression equations (i.e. the slope and intercept of the line).\n",
    "\n",
    "Bonus: Add the 95% confidence bands (i.e.,  the area that has a 95% chance of containing the true regression line) to each of these lines."
   ]
  },
  {
   "cell_type": "code",
   "execution_count": 5,
   "metadata": {
    "autoscroll": "json-false",
    "collapsed": false,
    "ein.tags": [
     "worksheet-0"
    ],
    "slideshow": {
     "slide_type": "-"
    }
   },
   "outputs": [
    {
     "data": {
      "text/plain": [
       "<matplotlib.lines.Line2D at 0x114217b00>"
      ]
     },
     "execution_count": 5,
     "metadata": {},
     "output_type": "execute_result"
    },
    {
     "data": {
      "image/png": "[encoded data removed]",
      "text/plain": [
       "<matplotlib.figure.Figure at 0x11074e470>"
      ]
     },
     "metadata": {},
     "output_type": "display_data"
    }
   ],
   "source": [
    "plt.scatter(boston['RM'], boston['MEDV'])\n",
    "\n",
    "x = np.arange(boston['RM'].min(), boston['RM'].max())\n",
    "plt.plot(x, x * 9.1021 - 34.6706, color=\"orange\")\n",
    "plt.plot(x, (x**2 * 2.4701) + (x * -22.6433) + 66.0588, color=\"red\")\n",
    "plt.xlabel(\"Avg number of rooms per dwelling (RM)\")\n",
    "plt.ylabel(\"Median value of home ($1000s) (MEDV)\")\n",
    "plt.title(\"Linear and quadratic regressions on RM and MEDV\")\n",
    "\n",
    "conf_95 = boston.mean()['RM']\n",
    "plt.axvline(conf_95, color = \"green\")\n"
   ]
  },
  {
   "cell_type": "markdown",
   "metadata": {
    "ein.tags": [
     "worksheet-0"
    ],
    "slideshow": {
     "slide_type": "-"
    }
   },
   "source": [
    "## Part 2: Gradient descent: Linear Regression\n",
    "\n",
    "Here we'll really get serious.  It's your turn to implement some\n",
    "methods now.\n",
    "\n",
    "### 2.1 Implement gradient descent with one independent variable (Average rooms per house)\n",
    "\n",
    "Implement the basic gradient descent algorithm that we discussed in\n",
    "class. Use the version you implement to regress the housing price on\n",
    "the number of rooms per house. Experiment with 3-4 different values of\n",
    "the learning rate $R$ to find the one that works well.  Comment your results.\n",
    "\n",
    "Do the following:\n",
    "\n",
    "* At each beta value compute the gradient of the loss function (Note:\n",
    "  this is a vector of 2 components, bias and RM) and change beta in that direction.\n",
    "* Repeat the process until convergence (or until you lose the hope you\n",
    "  will ever get that far ;-)\n",
    "* Report the values of the parameter that minimize the loss function\n",
    "* For each value of $R$ Report the number of iterations it takes for\n",
    "  your algorithm to converge (or not to explode)\n",
    "* Report the total running time of your algorithm\n",
    "\n",
    "Here you are supposed to code the algorithm for a single explanatory\n",
    "variable (RM) and constant.  I strongly recommend you to do it in\n",
    "matrix form but you can also loop over your data.  Note that if done\n",
    "in matrix form, the function here is almost exactly the same as for\n",
    "multple regression you are asked to implement later.\n",
    "\n",
    "* Hint 1: Don't forget to implement stopping conditions, so that at\n",
    "  every iteration you check whether your results have\n",
    "  converged. Common approaches to this are to (a) check if the loss\n",
    "  has stopped decreasing; (b) check if both your current parameter\n",
    "  esimates are close to the estimates from the previous iteration; (c)\n",
    "  check if your gradient is close to zero..  In both cases, \"close\"\n",
    "  should not be == 0, it should be <=epsilon, where epsilon is a small\n",
    "  number, such as 1e-6).\n",
    "* Hint 2: include a maximum number of iterations to avoid the code\n",
    "  running for ever.  Report \"no convergence\" if this is exceeded.\n",
    "  Depending on your code, you may need 30,000 iterations.\n",
    "* Hint 3: $R = 10^{-4}$ may be a good starting point.  But it depends\n",
    "on how exactly do you write your loss function\n",
    "\n",
    "Bonus challenge if you feel for it:\n",
    "* Implement an adaptive version of learning rate."
   ]
  },
  {
   "cell_type": "code",
   "execution_count": 6,
   "metadata": {
    "autoscroll": "json-false",
    "collapsed": false,
    "ein.tags": [
     "worksheet-0"
    ],
    "slideshow": {
     "slide_type": "-"
    }
   },
   "outputs": [
    {
     "name": "stdout",
     "output_type": "stream",
     "text": [
      "(matrix([[-34.66230383],\n",
      "        [  9.10080152]]), 69455, True)\n",
      "(matrix([[-34.66230383],\n",
      "        [  9.10080152]]), 69455, True)\n",
      "(matrix([[-34.66230383],\n",
      "        [  9.10080152]]), 69455, True)\n",
      "(matrix([[-34.66230383],\n",
      "        [  9.10080152]]), 69455, True)\n",
      "1 loop, best of 3: 6.13 s per loop\n"
     ]
    }
   ],
   "source": [
    "\"\"\"\n",
    "Function\n",
    "--------\n",
    "ols\n",
    "    Gradient Decent to minimize OLS. Used to find co-efficients of bivariate OLS Linear regression\n",
    "\n",
    "Parameters\n",
    "----------\n",
    "xvalues, yvalues : narray\n",
    "    xvalues: n x 2, independent variables.  One column should be constant\n",
    "    yvalues: n x 1, dependent variable\n",
    "    \n",
    "R: float\n",
    "    Learning rate\n",
    "    \n",
    "MaxIterations: Int\n",
    "    maximum number of iterations\n",
    "\n",
    "Returns\n",
    "-------\n",
    "(beta, iterations, convergence)\n",
    "beta: float vector, the parameter value \n",
    "iterations: integer, number of iterations\n",
    "convergece: logical, did the model converge?\n",
    "\"\"\"\n",
    "\n",
    "# Guidance from here: https://github.com/nmanchev/MachineLearningStudyGroup/blob/master/Lecture%201%20-%20Linear%20Regression%20and%20Gradient%20Descent/gradient.py\n",
    "\n",
    "df = pd.DataFrame()\n",
    "df['RM'] = boston['RM']\n",
    "df['bias'] = 1\n",
    "df['MEDV'] = boston['MEDV']\n",
    "\n",
    "y = np.matrix(df['MEDV'].values).T\n",
    "X = df.as_matrix(['bias', 'RM'])\n",
    "\n",
    "def ols(xvalues, yvalues, R, MaxIterations):\n",
    "  \n",
    "    beta = np.matrix([0,0]).T\n",
    "    n = len(yvalues)\n",
    "    \n",
    "    yhat = xvalues.dot(beta)\n",
    "    loss = ((yhat - y).T.dot(yhat - yvalues))/(2 * n)\n",
    "    gradient = (xvalues.T.dot(yhat - yvalues))/n\n",
    "    \n",
    "\n",
    "    for i in range(1, MaxIterations):\n",
    "        yhat = xvalues.dot(beta)\n",
    "        new_loss = ((yhat - yvalues).T.dot(yhat - yvalues))/(2 * n)\n",
    "    \n",
    "        gradient = (xvalues.T.dot(yhat - yvalues))/n\n",
    "    \n",
    "        beta_new = beta - (R * gradient)\n",
    "    \n",
    "        if (new_loss > loss):\n",
    "            return beta, i, True\n",
    "        \n",
    "        if ((abs(beta[1] - beta_new[1]) < 1e-6) & (abs(beta[0] - beta_new[0]) < 1e-6)):\n",
    "            return beta, i, True\n",
    "        \n",
    "        if (abs(gradient[1]) < 1e-6):\n",
    "            return beta, i, True\n",
    "        \n",
    "        beta = beta_new\n",
    "        loss = new_loss\n",
    "\n",
    "    \n",
    "    return 0, MaxIterations, False\n",
    "\n",
    "%timeit print(ols(X, y, .01, 500000))"
   ]
  },
  {
   "cell_type": "markdown",
   "metadata": {
    "ein.tags": [
     "worksheet-0"
    ],
    "slideshow": {
     "slide_type": "-"
    }
   },
   "source": [
    "The numbers returned are the same numbers from the linear regression in 1.1 for the 'MEDV ~ RM' equation. From 1.1, the intercept was -34.6706 and the RM coefficient was 9.1021. Here the gradient descent returns -34.6623 intercept and 9.1008 RM coefficient, which are very close. This means that gradient descent is almost just as reliable as the linear regression formula."
   ]
  },
  {
   "cell_type": "markdown",
   "metadata": {
    "ein.tags": [
     "worksheet-0"
    ],
    "slideshow": {
     "slide_type": "-"
    }
   },
   "source": [
    "### 2.2 Data normalization\n",
    "\n",
    "Soon, you will implement a version of gradient descent that can use an\n",
    "arbitrary number of independent variables. Before doing this, however,\n",
    "you should re-scale your features to ensure that no single feature\n",
    "dominates the cost function. Write a simple function to standardize\n",
    "your features.  Below is my version, but you can also use what you did\n",
    "in PS3."
   ]
  },
  {
   "cell_type": "code",
   "execution_count": 7,
   "metadata": {
    "autoscroll": "json-false",
    "collapsed": false,
    "ein.tags": [
     "worksheet-0"
    ],
    "slideshow": {
     "slide_type": "-"
    }
   },
   "outputs": [],
   "source": [
    "def standardize(raw_data):\n",
    "    return ((raw_data - np.mean(raw_data, axis = 0)) / np.std(raw_data, axis = 0))\n",
    "\n",
    "def de_standardize(data):\n",
    "    return data*np.std(data, axis = 0) + np.mean(data, axis = 0)\n"
   ]
  },
  {
   "cell_type": "markdown",
   "metadata": {
    "ein.tags": [
     "worksheet-0"
    ],
    "slideshow": {
     "slide_type": "-"
    }
   },
   "source": [
    "### 2.3 Implement gradient descent with an arbitrary number of independent variables\n",
    "\n",
    "Now that you have a simple version of gradient descent working, create\n",
    "a version of gradient descent that can take more than one independent\n",
    "variable.  Assume all independent variables will be continuous.  Test\n",
    "your algorithm using CRIM and RM as independent variables. Standardize\n",
    "these variables before before inputting them to the gradient descent\n",
    "algorithm.   If you used a pure matrix approach above, you can copy\n",
    "your previous algorithm almost verbatim.\n",
    "\n",
    "As before,  report and interpret your estimated coefficients, the number of iterations before convergence, and the total running time of your algorithm. Experiment with 2-3 different values of R.\n",
    "\n",
    "* *Hint 1: Be careful to implement this efficiently, otherwise it\n",
    "   might take a long time for your code to run.  Avoid looping over\n",
    "   matrix rows and columns if you can and use canned matrix\n",
    "   multiplication/other np functions like `np.mean`.  See the\n",
    "   normalization example above."
   ]
  },
  {
   "cell_type": "code",
   "execution_count": 8,
   "metadata": {
    "autoscroll": "json-false",
    "collapsed": false,
    "ein.tags": [
     "worksheet-0"
    ],
    "slideshow": {
     "slide_type": "-"
    }
   },
   "outputs": [
    {
     "name": "stdout",
     "output_type": "stream",
     "text": [
      "(matrix([[ -0.26185271],\n",
      "        [  8.39614437],\n",
      "        [-29.29275534]]), 72442, True)\n",
      "(matrix([[ -0.26185271],\n",
      "        [  8.39614437],\n",
      "        [-29.29275534]]), 72442, True)\n",
      "(matrix([[ -0.26185271],\n",
      "        [  8.39614437],\n",
      "        [-29.29275534]]), 72442, True)\n",
      "(matrix([[ -0.26185271],\n",
      "        [  8.39614437],\n",
      "        [-29.29275534]]), 72442, True)\n",
      "1 loop, best of 3: 4.97 s per loop\n"
     ]
    }
   ],
   "source": [
    "\"\"\"\n",
    "Function\n",
    "--------\n",
    "multivariate_ols\n",
    "    Gradient Decent to minimize OLS. Used to find co-efficients of bivariate OLS Linear regression\n",
    "\n",
    "Parameters\n",
    "----------\n",
    "xvalue_matrix, yvalues : narray\n",
    "    xvalue_matrix: independent variable\n",
    "    yvalues: dependent variable\n",
    "    \n",
    "R: float\n",
    "    Learning rate\n",
    "    \n",
    "MaxIterations: Int\n",
    "    maximum number of iterations\n",
    "    \n",
    "\n",
    "Returns\n",
    "-------\n",
    "alpha: float\n",
    "    intercept\n",
    "    \n",
    "beta_array: array[float]\n",
    "    co-efficient\n",
    "\"\"\"\n",
    "df['CRIM'] = boston['CRIM']\n",
    "\n",
    "y = np.matrix(df['MEDV'].values).T\n",
    "X = df.as_matrix(['CRIM', 'RM', 'bias'])\n",
    "\n",
    "\n",
    "def multiple_ols(xvalues, yvalues, R, MaxIterations):\n",
    "    beta = np.matrix(np.array([0.0] * xvalues.shape[1])).T\n",
    "    n = len(yvalues)\n",
    "    \n",
    "    yhat = xvalues.dot(beta)\n",
    "    loss = ((yhat - yvalues).T.dot(yhat - yvalues))/(2 * n)\n",
    "    \n",
    "    gradient = (xvalues.T.dot(yhat - yvalues)) / n\n",
    "    \n",
    "    for i in range(1, MaxIterations):\n",
    "        yhat = xvalues.dot(beta)\n",
    "        new_loss = ((yhat - yvalues).T.dot(yhat - yvalues))/(2 * n)\n",
    "    \n",
    "        gradient = (xvalues.T.dot(yhat - yvalues))/n\n",
    "    \n",
    "        beta_new = beta - (R * gradient)\n",
    "    \n",
    "        if (new_loss > loss):\n",
    "            return beta, i, True\n",
    "        \n",
    "        if ((abs(beta - beta_new) < 1e-6).all()):\n",
    "            return beta, i, True\n",
    "        \n",
    "        if ((abs(gradient) < 1e-6).all()):\n",
    "            return beta, i, True\n",
    "        \n",
    "        beta = beta_new\n",
    "        loss = new_loss\n",
    "        \n",
    "    return 0, MaxIterations, False\n",
    "\n",
    "%timeit print(multiple_ols(X, y, .01, 500000))"
   ]
  },
  {
   "cell_type": "markdown",
   "metadata": {
    "ein.tags": [
     "worksheet-0"
    ],
    "slideshow": {
     "slide_type": "-"
    }
   },
   "source": [
    "Compared to the regression in 1.1, it seems that these numbers are slightly off. With coefficients of 66.0588, -22.6433, and 2.4701, the numbers returned from here in 2.3 do not quite match."
   ]
  },
  {
   "cell_type": "markdown",
   "metadata": {
    "ein.tags": [
     "worksheet-0"
    ],
    "slideshow": {
     "slide_type": "-"
    }
   },
   "source": [
    "### 2.4 Compare standardized vs. non-standardized results\n",
    "\n",
    "Repeat the analysis from 2.3, but this time do not standardize your variables - i.e., use the original data. Use the same three values of R (0.1, 0.01, and 0.001). What do you notice about the running time and convergence properties of your algorithm?"
   ]
  },
  {
   "cell_type": "code",
   "execution_count": 14,
   "metadata": {
    "autoscroll": "json-false",
    "collapsed": false,
    "ein.tags": [
     "worksheet-0"
    ],
    "slideshow": {
     "slide_type": "-"
    }
   },
   "outputs": [
    {
     "name": "stdout",
     "output_type": "stream",
     "text": [
      "(0, 500000, False)\n",
      "(0, 500000, False)\n",
      "(0, 500000, False)\n",
      "(0, 500000, False)\n",
      "1 loop, best of 3: 34.6 s per loop\n"
     ]
    }
   ],
   "source": [
    "# standardize(df[['CRIM', 'RM', 'MEDV']])\n",
    "\n",
    "# 1000 loops, best of 3: 508 µs per loop\n",
    "# %timeit print(multiple_ols(X, y, .1, 500000))\n",
    "\n",
    "# 1 loop, best of 3: 5 s per loop\n",
    "# %timeit print(multiple_ols(X, y, .01, 500000))\n",
    "\n",
    "# 1 loop, best of 3: 34.4 s per loop\n",
    "# %timeit print(multiple_ols(X, y, .001, 500000))\n",
    "\n",
    "\n",
    "de_standardize(df[['CRIM', 'RM', 'MEDV']])\n",
    "\n",
    "# 1000 loops, best of 3: 518 µs per loop\n",
    "# %timeit print(multiple_ols(X, y, .1, 500000))\n",
    "\n",
    "# 1 loop, best of 3: 5.05 s per loop\n",
    "# %timeit print(multiple_ols(X, y, .01, 500000))\n",
    "\n",
    "# 1 loop, best of 3: 34.6 s per loop\n",
    "%timeit print(multiple_ols(X, y, .001, 500000))\n"
   ]
  },
  {
   "cell_type": "markdown",
   "metadata": {
    "ein.tags": [
     "worksheet-0"
    ],
    "slideshow": {
     "slide_type": "-"
    }
   },
   "source": [
    "I notice that standardize runs slightly faster than the destandardized form. All 3 R values (.1, .01, .001) run slightly faster than the destandardized form, however the difference is not huge. I'm inclined to say that there isn't much of a difference in time between the 2 forms since the difference is so small."
   ]
  },
  {
   "cell_type": "markdown",
   "metadata": {
    "ein.tags": [
     "worksheet-0"
    ],
    "slideshow": {
     "slide_type": "-"
    }
   },
   "source": [
    "## 3. Prediction\n",
    "\n",
    "Let's use our fitted model to make predictions about housing prices. Since the focus is now on prediction rather than the interpretation of the coefficients, make sure to use the standardized version of your features in everything that follows.\n",
    "\n",
    "### 3.1 Predicted values and RMSE\n",
    "\n",
    "Let's figure out how accurate this predictive model turns out to\n",
    "be. Report the average 10-fold cross-validated RMSE, separately for\n",
    "the training data and for the testing data.  Feel freee to use 'sklearn's canned cross validation.\n",
    "\n",
    "What is your test RMSE?  How does it compare to the performance of your nearest neighbor algorithm from the last problem set?"
   ]
  },
  {
   "cell_type": "code",
   "execution_count": 26,
   "metadata": {
    "autoscroll": "json-false",
    "collapsed": false,
    "ein.tags": [
     "worksheet-0"
    ],
    "slideshow": {
     "slide_type": "-"
    }
   },
   "outputs": [
    {
     "name": "stdout",
     "output_type": "stream",
     "text": [
      "Time estimate: 66.45 seconds\n",
      "Time estimate: 30.38 seconds\n",
      "RMSE:  6.7593653258159625\n",
      "Time estimate: 29.56 seconds\n",
      "RMSE:  9.16676648787004\n",
      "Time estimate: 28.16 seconds\n",
      "RMSE:  6.790492199666051\n",
      "Time estimate: 30.0 seconds\n",
      "RMSE:  4.602599436039101\n",
      "Time estimate: 28.99 seconds\n",
      "RMSE:  5.924641132509176\n",
      "Time estimate: 25.73 seconds\n",
      "RMSE:  5.197133448203093\n",
      "Time estimate: 25.76 seconds\n",
      "RMSE:  6.508548225218892\n",
      "Time estimate: 25.42 seconds\n",
      "RMSE:  7.369979647190349\n",
      "Time estimate: 25.66 seconds\n",
      "RMSE:  8.299252978431252\n",
      "Time estimate: 25.78 seconds\n",
      "RMSE:  6.560228654551608\n",
      "Time estimate: 275.47 seconds\n"
     ]
    },
    {
     "data": {
      "text/plain": [
       "6.7179007535495527"
      ]
     },
     "execution_count": 26,
     "metadata": {},
     "output_type": "execute_result"
    }
   ],
   "source": [
    "standardize(df[['CRIM', 'RM', 'MEDV']])\n",
    "\n",
    "from sklearn.metrics import mean_squared_error\n",
    "from math import sqrt\n",
    "\n",
    "def compute_rmse(y_actual, y_predicted):\n",
    "    rmse = sqrt(mean_squared_error(y_actual, y_predicted))\n",
    "    return rmse\n",
    "\n",
    "randomize = np.random.rand(len(df)) < 0.66\n",
    "bdata_train = df[randomize]\n",
    "bdata_test = df[~randomize]\n",
    "bdata_test = bdata_test.reset_index(drop=True)\n",
    "bdata_train = bdata_train.reset_index(drop=True)\n",
    "\n",
    "import math\n",
    "\n",
    "def distance(x1, x2, L):\n",
    "    dist = abs(np.sum((np.array(x1) - np.array(x2)) ** L)) ** (1 / L)\n",
    "    return dist\n",
    "\n",
    "import time\n",
    "input_features = ['CRIM', 'ZN', 'INDUS', 'CHAS', 'NOX', 'RM', 'AGE', 'DIS', 'RAD', 'TAX', 'PTRATIO', 'B', 'LSTAT', 'MEDV']\n",
    "\n",
    "def nneighbor(train, test, input_features, L):\n",
    "    start_time = time.time()\n",
    "\n",
    "    predictions = []\n",
    "    \n",
    "    for i in range(len(test)):\n",
    "        min_distance = 99999\n",
    "        curr_prediction = 0\n",
    "        for j in range(len(train)):\n",
    "            curr_dist = distance(test[input_features].loc[i], train[input_features].loc[j], L)\n",
    "            if curr_dist < min_distance:\n",
    "                min_distance = curr_dist\n",
    "                curr_prediction = train['MEDV'][j]\n",
    "        predictions.append(curr_prediction)\n",
    "    \n",
    "    print (\"Time estimate: \" + str(round(time.time() - start_time, 2)) + \" seconds\")\n",
    "\n",
    "    rmse = compute_rmse(predictions, test[\"MEDV\"])\n",
    "#     plt.scatter(predictions, bdata_test[\"MEDV\"])  \n",
    "    return rmse\n",
    "\n",
    "nneighbor(bdata_train, bdata_test, [\"RM\", \"CRIM\"], 2)\n",
    "\n",
    "def k_fold(X, K, N):\n",
    "    start_time = time.time()\n",
    "\n",
    "    rmses = [0] * K\n",
    "    for k in range(K):\n",
    "        training_df = X[X.index.values % K != k].reset_index()\n",
    "        testing_df = X[X.index.values % K == k].reset_index()\n",
    "        rmses[k] = nneighbor(training_df, testing_df, [\"RM\", \"CRIM\"], N)\n",
    "        print(\"RMSE: \", rmses[k])\n",
    "    print (\"Time estimate: \" + str(round(time.time() - start_time, 2)) + \" seconds\")\n",
    "\n",
    "    return np.mean(rmses)\n",
    "\n",
    "k_fold(df, K=10, N=2)"
   ]
  },
  {
   "cell_type": "markdown",
   "metadata": {
    "ein.tags": [
     "worksheet-0"
    ],
    "slideshow": {
     "slide_type": "-"
    }
   },
   "source": [
    "The RMSE values tend to fluctuate. It looks like if more folds were added, we might be able to get a better idea on the RMSE trend but so far it's hard to say. The RMSE is still rather high."
   ]
  },
  {
   "cell_type": "markdown",
   "metadata": {
    "ein.tags": [
     "worksheet-0"
    ],
    "slideshow": {
     "slide_type": "-"
    }
   },
   "source": [
    "### Extra Credit: Logistic Regression\n",
    "\n",
    "For extra credit, implement logistic regression using gradient\n",
    "descent. Create a new variable (EXPENSIVE) to indicate whether the\n",
    "median housing price is more than $40,000. Estimate a logistic\n",
    "regression model of EXPENSIVE on CHAS and RM.  Compute accuracy and recall."
   ]
  },
  {
   "cell_type": "code",
   "execution_count": 3,
   "metadata": {
    "autoscroll": "json-false",
    "collapsed": false,
    "ein.tags": [
     "worksheet-0"
    ],
    "slideshow": {
     "slide_type": "-"
    }
   },
   "outputs": [],
   "source": [
    "# code"
   ]
  },
  {
   "cell_type": "markdown",
   "metadata": {
    "ein.tags": [
     "worksheet-0"
    ],
    "slideshow": {
     "slide_type": "-"
    }
   },
   "source": [
    "How well did it work?"
   ]
  },
  {
   "cell_type": "markdown",
   "metadata": {
    "ein.tags": [
     "worksheet-0"
    ],
    "slideshow": {
     "slide_type": "-"
    }
   },
   "source": [
    "## 4 Regularization \n",
    "\n",
    "### 4.1 Get prepped\n",
    "\n",
    "Step 1: For each of the continuous features F in the original dataset, create a standardized version F_1.  Now, create polynomials up to degree 6 of each F_1: the square of F_1 (call this F_2); the cube of F_1 (call this F_3); and so forth up to F_6. If you originally had *K* features, you should now have *6K* features (i.e., we're going to ignore the original unscaled features for the remainder of this problem).\n",
    "\n",
    "Step 2: For simplicity, generate a single training and testing set.  Randomly sample 66% of your data and call this the training set, and set aside the remaining 34% as your test set."
   ]
  },
  {
   "cell_type": "code",
   "execution_count": 30,
   "metadata": {
    "autoscroll": "json-false",
    "collapsed": false,
    "ein.tags": [
     "worksheet-0"
    ],
    "slideshow": {
     "slide_type": "-"
    }
   },
   "outputs": [],
   "source": [
    "F_1 = standardize(boston)\n"
   ]
  },
  {
   "cell_type": "markdown",
   "metadata": {
    "ein.tags": [
     "worksheet-0"
    ],
    "slideshow": {
     "slide_type": "-"
    }
   },
   "source": [
    "### 4.2 Let's overfit!\n",
    "Now, using your version of multivariate regression from 2.3, (over)fit\n",
    "your model on the training data. Using your training set, regress\n",
    "housing price on as many of those *6K* features as you can.  If you\n",
    "get too greedy, or if you did not efficiently implement your solution\n",
    "to 2.3, it's possible this will take a long time to compute, or does\n",
    "not converge at all.  \n",
    "\n",
    "Report the RMSE when you apply your model to your training set and to your testing set. How do these numbers compare to each other, and to the RMSE from 2.5 and nearest neighbors?"
   ]
  },
  {
   "cell_type": "code",
   "execution_count": 5,
   "metadata": {
    "autoscroll": "json-false",
    "collapsed": false,
    "ein.tags": [
     "worksheet-0"
    ],
    "slideshow": {
     "slide_type": "-"
    }
   },
   "outputs": [],
   "source": [
    "# code\n"
   ]
  },
  {
   "cell_type": "markdown",
   "metadata": {
    "ein.tags": [
     "worksheet-0"
    ],
    "slideshow": {
     "slide_type": "-"
    }
   },
   "source": [
    "Using our \"overfit\" regression, we see a drop in RMSE. As above, the actual values will depend on the random splits in the data, but in general we see that the RMSE is reduced by the largest margin on the training set, but the RMSE on the test set is still lower than the results from a regression with just two regressors"
   ]
  },
  {
   "cell_type": "markdown",
   "metadata": {
    "ein.tags": [
     "worksheet-0"
    ],
    "slideshow": {
     "slide_type": "-"
    }
   },
   "source": [
    "### 4.3 Ridge regularization\n",
    "Incorporate L2 (Ridge) regularization into your multivariate_ols\n",
    "regression.  You have to take your multiple regression code, and add\n",
    "the penalization term to the gradient.  Add the penalty tuning parameter as an\n",
    "additional argument to this function.  Remember not to penalize the\n",
    "constant! \n",
    "\n",
    "Use your regularized regression to re-fit the model from 4.2 above on your training data. Try this for several different values of lambda, and report your RMSE for each lambda separately for your training and testing data. How do these numbers compare to each other, to the RMSE from 4.2,  to the RMSE from 2.3, and to the RMSE from nearest neighbors?\n",
    "\n",
    "Finally, go and brag to your friends about how you just implemented\n",
    "ridge-regularized multivariate regression using gradient descent\n",
    "optimization, from scratch. If you still have friends left ;-)"
   ]
  },
  {
   "cell_type": "code",
   "execution_count": 45,
   "metadata": {
    "autoscroll": "json-false",
    "collapsed": false,
    "ein.tags": [
     "worksheet-0"
    ],
    "slideshow": {
     "slide_type": "-"
    }
   },
   "outputs": [],
   "source": [
    "def multiple_regularized_ols(xvalue_matrix, y, R=0.01, MaxIterations=1000, lbd=1):\n",
    "    ## the only difference with multiple OLS: add the penalty\n",
    "    ## parameter (both to loss and to gradient)\n",
    "    return alpha, beta_array, iterations, convergence"
   ]
  },
  {
   "cell_type": "markdown",
   "metadata": {
    "ein.tags": [
     "worksheet-0"
    ],
    "slideshow": {
     "slide_type": "-"
    }
   },
   "source": [
    "what do you see?"
   ]
  },
  {
   "cell_type": "markdown",
   "metadata": {
    "ein.tags": [
     "worksheet-0"
    ],
    "slideshow": {
     "slide_type": "-"
    }
   },
   "source": [
    "### Extra Credit 2: Cross-validate lambda\n",
    "\n",
    "Use k-fold cross-validation to select the optimal value of lambda. Report the average RMSE across all training sets, and the average RMSE across all testing sets. How do these numbers compare to each other, to the RMSE from your previous efforts?  Finally, create a scatter plot that shows RMSE as a function of lambda."
   ]
  },
  {
   "cell_type": "code",
   "execution_count": 6,
   "metadata": {
    "autoscroll": "json-false",
    "collapsed": false,
    "ein.tags": [
     "worksheet-0"
    ],
    "slideshow": {
     "slide_type": "-"
    }
   },
   "outputs": [],
   "source": [
    "# code"
   ]
  },
  {
   "cell_type": "markdown",
   "metadata": {
    "ein.tags": [
     "worksheet-0"
    ],
    "slideshow": {
     "slide_type": "-"
    }
   },
   "source": [
    "What is your optimal lambda?"
   ]
  },
  {
   "cell_type": "markdown",
   "metadata": {
    "ein.tags": [
     "worksheet-0"
    ],
    "slideshow": {
     "slide_type": "-"
    }
   },
   "source": [
    "### (Showoff) Extra Credit 3: Lambda and coefficients\n",
    "\n",
    "If you're feeling extra-special, create a parameter plot that shows how the different coefficient estimates change as a function of lambda. To make this graph intelligible, only include the *K* original F_s features in this plot."
   ]
  },
  {
   "cell_type": "code",
   "execution_count": 56,
   "metadata": {
    "autoscroll": "json-false",
    "collapsed": false,
    "ein.tags": [
     "worksheet-0"
    ],
    "slideshow": {
     "slide_type": "-"
    }
   },
   "outputs": [],
   "source": [
    "# code"
   ]
  },
  {
   "cell_type": "markdown",
   "metadata": {
    "ein.tags": [
     "worksheet-0"
    ],
    "slideshow": {
     "slide_type": "-"
    }
   },
   "source": [
    "What do you see with coefficients and lambda?"
   ]
  }
 ],
 "metadata": {
  "anaconda-cloud": {},
  "kernelspec": {
   "display_name": "Python [default]",
   "language": "python",
   "name": "python3"
  },
  "language_info": {
   "codemirror_mode": {
    "name": "ipython",
    "version": 3
   },
   "file_extension": ".py",
   "mimetype": "text/x-python",
   "name": "python",
   "nbconvert_exporter": "python",
   "pygments_lexer": "ipython3",
   "version": "3.5.2"
  },
  "name": "INFO371-PS4.ipynb"
 },
 "nbformat": 4,
 "nbformat_minor": 0
}
