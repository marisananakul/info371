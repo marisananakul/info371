{
 "cells": [
  {
   "cell_type": "code",
   "execution_count": 1,
   "metadata": {
    "collapsed": true
   },
   "outputs": [],
   "source": [
    "import IPython\n",
    "import numpy as np\n",
    "import scipy as sp\n",
    "import pandas as pd\n",
    "import matplotlib.pyplot as plt\n",
    "import sklearn\n",
    "import statsmodels.api as sm"
   ]
  },
  {
   "cell_type": "code",
   "execution_count": null,
   "metadata": {
    "collapsed": true
   },
   "outputs": [],
   "source": [
    "tidy = pd.read_csv('data/tidy.csv')\n",
    "print(tidy)"
   ]
  },
  {
   "cell_type": "code",
   "execution_count": null,
   "metadata": {
    "collapsed": true
   },
   "outputs": [],
   "source": [
    "#x_train = np.array([row[2]for row in tidy])\n",
    "#y_train = np.array([row[6] for row in tidy])\n",
    "\n",
    "# https://stackoverflow.com/questions/21065938/read-a-single-column-of-a-csv-and-store-in-an-array\n",
    "tidy.columns = [\"Unnamed: 0\", \"delta_time\", \"avg_speed\", \"avg_steer\", \"avg_brake\", \"avg_track\", \"TPMS_IR_Temp_Tyre_FL_c\"]\n",
    "x_train1 = tidy['avg_speed'].values\n",
    "\n",
    "x_train = list(tidy.avg_speed)\n",
    "y_train = list(tidy.TPMS_IR_Temp_Tyre_FL_c)"
   ]
  },
  {
   "cell_type": "code",
   "execution_count": null,
   "metadata": {
    "collapsed": true
   },
   "outputs": [],
   "source": [
    "print(x_train1)"
   ]
  },
  {
   "cell_type": "code",
   "execution_count": null,
   "metadata": {
    "collapsed": true
   },
   "outputs": [],
   "source": [
    "print(x_train)"
   ]
  },
  {
   "cell_type": "code",
   "execution_count": null,
   "metadata": {
    "collapsed": true
   },
   "outputs": [],
   "source": [
    "print(y_train)\n",
    "d = np.array([1, 2, 3, 4])\n",
    "print(d)"
   ]
  }
 ],
 "metadata": {
  "kernelspec": {
   "display_name": "Python [conda root]",
   "language": "python",
   "name": "conda-root-py"
  },
  "language_info": {
   "codemirror_mode": {
    "name": "ipython",
    "version": 3
   },
   "file_extension": ".py",
   "mimetype": "text/x-python",
   "name": "python",
   "nbconvert_exporter": "python",
   "pygments_lexer": "ipython3",
   "version": "3.5.2"
  }
 },
 "nbformat": 4,
 "nbformat_minor": 1
}
